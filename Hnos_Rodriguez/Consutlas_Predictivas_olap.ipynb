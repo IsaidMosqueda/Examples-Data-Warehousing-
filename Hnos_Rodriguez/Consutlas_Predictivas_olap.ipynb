{
  "nbformat": 4,
  "nbformat_minor": 0,
  "metadata": {
    "colab": {
      "name": "Consutlas Predictivas_olap.ipynb",
      "provenance": [],
      "collapsed_sections": [],
      "toc_visible": true
    },
    "kernelspec": {
      "name": "python3",
      "display_name": "Python 3"
    }
  },
  "cells": [
    {
      "cell_type": "code",
      "metadata": {
        "colab": {
          "base_uri": "https://localhost:8080/"
        },
        "id": "Ul1_Mez8jl1p",
        "outputId": "b6b73f6a-76ea-43d0-cde8-74dee0a94f25"
      },
      "source": [
        "!pip install pandasql"
      ],
      "execution_count": null,
      "outputs": [
        {
          "output_type": "stream",
          "text": [
            "Collecting pandasql\n",
            "  Downloading https://files.pythonhosted.org/packages/6b/c4/ee4096ffa2eeeca0c749b26f0371bd26aa5c8b611c43de99a4f86d3de0a7/pandasql-0.7.3.tar.gz\n",
            "Requirement already satisfied: numpy in /usr/local/lib/python3.6/dist-packages (from pandasql) (1.19.5)\n",
            "Requirement already satisfied: pandas in /usr/local/lib/python3.6/dist-packages (from pandasql) (1.1.5)\n",
            "Requirement already satisfied: sqlalchemy in /usr/local/lib/python3.6/dist-packages (from pandasql) (1.3.22)\n",
            "Requirement already satisfied: pytz>=2017.2 in /usr/local/lib/python3.6/dist-packages (from pandas->pandasql) (2018.9)\n",
            "Requirement already satisfied: python-dateutil>=2.7.3 in /usr/local/lib/python3.6/dist-packages (from pandas->pandasql) (2.8.1)\n",
            "Requirement already satisfied: six>=1.5 in /usr/local/lib/python3.6/dist-packages (from python-dateutil>=2.7.3->pandas->pandasql) (1.15.0)\n",
            "Building wheels for collected packages: pandasql\n",
            "  Building wheel for pandasql (setup.py) ... \u001b[?25l\u001b[?25hdone\n",
            "  Created wheel for pandasql: filename=pandasql-0.7.3-cp36-none-any.whl size=26820 sha256=2fa0a4c32baccd3df905521a567de68e882ee2ec3863547761f58051b2b322c1\n",
            "  Stored in directory: /root/.cache/pip/wheels/53/6c/18/b87a2e5fa8a82e9c026311de56210b8d1c01846e18a9607fc9\n",
            "Successfully built pandasql\n",
            "Installing collected packages: pandasql\n",
            "Successfully installed pandasql-0.7.3\n"
          ],
          "name": "stdout"
        }
      ]
    },
    {
      "cell_type": "code",
      "metadata": {
        "id": "mnjVoQIny0Wi"
      },
      "source": [
        "#Para hacer las consultas se cargaran las bases en csv, se obtendran las consultas encesarias y se operara sobre estas.\r\n",
        "import pandas as pd\r\n",
        "import numpy as np\r\n",
        "import pandasql as ps"
      ],
      "execution_count": null,
      "outputs": []
    },
    {
      "cell_type": "markdown",
      "metadata": {
        "id": "73TRdeu-iKIR"
      },
      "source": [
        "#1. En base a la edad de un nuevo cliente, predecir con que tipo de pago realizara su compra. \r\n",
        "\r\n",
        "Para esta consulta, primero debemos de obtener los datos correspondientes a las tablas de cliente, hechos y tipo pago:"
      ]
    },
    {
      "cell_type": "code",
      "metadata": {
        "id": "Fqg5vZt5kTJI"
      },
      "source": [
        "hechos=pd.read_csv('/content/hechos.csv')\r\n",
        "cliente=pd.read_csv('/content/cliente.csv')\r\n",
        "pago = pd.read_csv('/content/pago.csv')"
      ],
      "execution_count": null,
      "outputs": []
    },
    {
      "cell_type": "markdown",
      "metadata": {
        "id": "WIwHWBQMb2lw"
      },
      "source": [
        "Teniendo los datos cargados, realizamos una consulta para obtener las tuplas correspondientes a las fechas de los clientes y sus tipos de pago registrados."
      ]
    },
    {
      "cell_type": "code",
      "metadata": {
        "id": "tV5lhf11mZ8K"
      },
      "source": [
        "#Guardamos en una tabla el dataframe correspondiente a las fechas de nacimiento de los clientes registrados junto con sus tipos de pago. \r\n",
        "q1=\"\"\"SELECT \r\n",
        "fecha_nacimiento, tipo_pago_id\r\n",
        "FROM\r\n",
        "cliente JOIN hechos ON cliente.cliente_id == hechos.cliente_id\"\"\"\r\n",
        "data = ps.sqldf(q1,locals())"
      ],
      "execution_count": null,
      "outputs": []
    },
    {
      "cell_type": "code",
      "metadata": {
        "colab": {
          "base_uri": "https://localhost:8080/",
          "height": 195
        },
        "id": "k7yW6Qkqw9ik",
        "outputId": "99f930fc-57c9-458f-c8f2-dee1fba2fc9f"
      },
      "source": [
        "data.head()"
      ],
      "execution_count": null,
      "outputs": [
        {
          "output_type": "execute_result",
          "data": {
            "text/html": [
              "<div>\n",
              "<style scoped>\n",
              "    .dataframe tbody tr th:only-of-type {\n",
              "        vertical-align: middle;\n",
              "    }\n",
              "\n",
              "    .dataframe tbody tr th {\n",
              "        vertical-align: top;\n",
              "    }\n",
              "\n",
              "    .dataframe thead th {\n",
              "        text-align: right;\n",
              "    }\n",
              "</style>\n",
              "<table border=\"1\" class=\"dataframe\">\n",
              "  <thead>\n",
              "    <tr style=\"text-align: right;\">\n",
              "      <th></th>\n",
              "      <th>fecha_nacimiento</th>\n",
              "      <th>tipo_pago_id</th>\n",
              "    </tr>\n",
              "  </thead>\n",
              "  <tbody>\n",
              "    <tr>\n",
              "      <th>0</th>\n",
              "      <td>1998-12-03</td>\n",
              "      <td>efectivo</td>\n",
              "    </tr>\n",
              "    <tr>\n",
              "      <th>1</th>\n",
              "      <td>1990-02-16</td>\n",
              "      <td>tarjeta de credito</td>\n",
              "    </tr>\n",
              "    <tr>\n",
              "      <th>2</th>\n",
              "      <td>1956-06-17</td>\n",
              "      <td>tarjeta de debito</td>\n",
              "    </tr>\n",
              "    <tr>\n",
              "      <th>3</th>\n",
              "      <td>1973-10-26</td>\n",
              "      <td>tarjeta de credito</td>\n",
              "    </tr>\n",
              "    <tr>\n",
              "      <th>4</th>\n",
              "      <td>1973-08-30</td>\n",
              "      <td>tarjeta de credito</td>\n",
              "    </tr>\n",
              "  </tbody>\n",
              "</table>\n",
              "</div>"
            ],
            "text/plain": [
              "  fecha_nacimiento                              tipo_pago_id\n",
              "0       1998-12-03  efectivo                                \n",
              "1       1990-02-16  tarjeta de credito                      \n",
              "2       1956-06-17  tarjeta de debito                       \n",
              "3       1973-10-26  tarjeta de credito                      \n",
              "4       1973-08-30  tarjeta de credito                      "
            ]
          },
          "metadata": {
            "tags": []
          },
          "execution_count": 99
        }
      ]
    },
    {
      "cell_type": "code",
      "metadata": {
        "colab": {
          "base_uri": "https://localhost:8080/",
          "height": 1000
        },
        "id": "3DM4joVgjEZL",
        "outputId": "5cf60f41-18ff-4115-b458-915185dd7868"
      },
      "source": [
        "#Cambiamos el tipo de dato a fecha para operar con esta columna.\r\n",
        "data['fecha_nacimiento'] = pd.to_datetime(data['fecha_nacimiento'], format='%Y/%m/%d')\r\n",
        "data.sort_values(by='fecha_nacimiento')"
      ],
      "execution_count": null,
      "outputs": [
        {
          "output_type": "execute_result",
          "data": {
            "text/html": [
              "<div>\n",
              "<style scoped>\n",
              "    .dataframe tbody tr th:only-of-type {\n",
              "        vertical-align: middle;\n",
              "    }\n",
              "\n",
              "    .dataframe tbody tr th {\n",
              "        vertical-align: top;\n",
              "    }\n",
              "\n",
              "    .dataframe thead th {\n",
              "        text-align: right;\n",
              "    }\n",
              "</style>\n",
              "<table border=\"1\" class=\"dataframe\">\n",
              "  <thead>\n",
              "    <tr style=\"text-align: right;\">\n",
              "      <th></th>\n",
              "      <th>fecha_nacimiento</th>\n",
              "      <th>tipo_pago_id</th>\n",
              "    </tr>\n",
              "  </thead>\n",
              "  <tbody>\n",
              "    <tr>\n",
              "      <th>22</th>\n",
              "      <td>1956-05-17</td>\n",
              "      <td>tarjeta de debito</td>\n",
              "    </tr>\n",
              "    <tr>\n",
              "      <th>2</th>\n",
              "      <td>1956-06-17</td>\n",
              "      <td>tarjeta de debito</td>\n",
              "    </tr>\n",
              "    <tr>\n",
              "      <th>12</th>\n",
              "      <td>1956-06-17</td>\n",
              "      <td>tarjeta de debito</td>\n",
              "    </tr>\n",
              "    <tr>\n",
              "      <th>32</th>\n",
              "      <td>1956-08-17</td>\n",
              "      <td>tarjeta de debito</td>\n",
              "    </tr>\n",
              "    <tr>\n",
              "      <th>33</th>\n",
              "      <td>1973-05-26</td>\n",
              "      <td>tarjeta de credito</td>\n",
              "    </tr>\n",
              "    <tr>\n",
              "      <th>24</th>\n",
              "      <td>1973-05-30</td>\n",
              "      <td>tarjeta de credito</td>\n",
              "    </tr>\n",
              "    <tr>\n",
              "      <th>23</th>\n",
              "      <td>1973-07-26</td>\n",
              "      <td>tarjeta de credito</td>\n",
              "    </tr>\n",
              "    <tr>\n",
              "      <th>13</th>\n",
              "      <td>1973-07-26</td>\n",
              "      <td>tarjeta de credito</td>\n",
              "    </tr>\n",
              "    <tr>\n",
              "      <th>4</th>\n",
              "      <td>1973-08-30</td>\n",
              "      <td>tarjeta de credito</td>\n",
              "    </tr>\n",
              "    <tr>\n",
              "      <th>14</th>\n",
              "      <td>1973-08-30</td>\n",
              "      <td>tarjeta de credito</td>\n",
              "    </tr>\n",
              "    <tr>\n",
              "      <th>3</th>\n",
              "      <td>1973-10-26</td>\n",
              "      <td>tarjeta de credito</td>\n",
              "    </tr>\n",
              "    <tr>\n",
              "      <th>18</th>\n",
              "      <td>1979-10-01</td>\n",
              "      <td>efectivo</td>\n",
              "    </tr>\n",
              "    <tr>\n",
              "      <th>28</th>\n",
              "      <td>1979-11-01</td>\n",
              "      <td>efectivo</td>\n",
              "    </tr>\n",
              "    <tr>\n",
              "      <th>8</th>\n",
              "      <td>1979-11-01</td>\n",
              "      <td>efectivo</td>\n",
              "    </tr>\n",
              "    <tr>\n",
              "      <th>38</th>\n",
              "      <td>1979-11-01</td>\n",
              "      <td>efectivo</td>\n",
              "    </tr>\n",
              "    <tr>\n",
              "      <th>36</th>\n",
              "      <td>1980-04-01</td>\n",
              "      <td>tarjeta de debito</td>\n",
              "    </tr>\n",
              "    <tr>\n",
              "      <th>26</th>\n",
              "      <td>1980-08-11</td>\n",
              "      <td>tarjeta de debito</td>\n",
              "    </tr>\n",
              "    <tr>\n",
              "      <th>6</th>\n",
              "      <td>1980-09-11</td>\n",
              "      <td>tarjeta de debito</td>\n",
              "    </tr>\n",
              "    <tr>\n",
              "      <th>16</th>\n",
              "      <td>1980-10-11</td>\n",
              "      <td>tarjeta de debito</td>\n",
              "    </tr>\n",
              "    <tr>\n",
              "      <th>37</th>\n",
              "      <td>1985-01-01</td>\n",
              "      <td>efectivo</td>\n",
              "    </tr>\n",
              "    <tr>\n",
              "      <th>27</th>\n",
              "      <td>1985-03-10</td>\n",
              "      <td>efectivo</td>\n",
              "    </tr>\n",
              "    <tr>\n",
              "      <th>7</th>\n",
              "      <td>1985-04-10</td>\n",
              "      <td>efectivo</td>\n",
              "    </tr>\n",
              "    <tr>\n",
              "      <th>17</th>\n",
              "      <td>1985-06-10</td>\n",
              "      <td>efectivo</td>\n",
              "    </tr>\n",
              "    <tr>\n",
              "      <th>34</th>\n",
              "      <td>1990-01-05</td>\n",
              "      <td>tarjeta de credito</td>\n",
              "    </tr>\n",
              "    <tr>\n",
              "      <th>21</th>\n",
              "      <td>1990-01-16</td>\n",
              "      <td>tarjeta de credito</td>\n",
              "    </tr>\n",
              "    <tr>\n",
              "      <th>1</th>\n",
              "      <td>1990-02-16</td>\n",
              "      <td>tarjeta de credito</td>\n",
              "    </tr>\n",
              "    <tr>\n",
              "      <th>11</th>\n",
              "      <td>1990-03-16</td>\n",
              "      <td>tarjeta de credito</td>\n",
              "    </tr>\n",
              "    <tr>\n",
              "      <th>31</th>\n",
              "      <td>1990-07-16</td>\n",
              "      <td>tarjeta de credito</td>\n",
              "    </tr>\n",
              "    <tr>\n",
              "      <th>15</th>\n",
              "      <td>1991-01-11</td>\n",
              "      <td>tarjeta de credito</td>\n",
              "    </tr>\n",
              "    <tr>\n",
              "      <th>25</th>\n",
              "      <td>1991-01-11</td>\n",
              "      <td>tarjeta de credito</td>\n",
              "    </tr>\n",
              "    <tr>\n",
              "      <th>5</th>\n",
              "      <td>1991-03-11</td>\n",
              "      <td>tarjeta de credito</td>\n",
              "    </tr>\n",
              "    <tr>\n",
              "      <th>35</th>\n",
              "      <td>1991-03-13</td>\n",
              "      <td>tarjeta de credito</td>\n",
              "    </tr>\n",
              "    <tr>\n",
              "      <th>39</th>\n",
              "      <td>1998-01-05</td>\n",
              "      <td>efectivo</td>\n",
              "    </tr>\n",
              "    <tr>\n",
              "      <th>9</th>\n",
              "      <td>1998-01-05</td>\n",
              "      <td>efectivo</td>\n",
              "    </tr>\n",
              "    <tr>\n",
              "      <th>29</th>\n",
              "      <td>1998-02-05</td>\n",
              "      <td>efectivo</td>\n",
              "    </tr>\n",
              "    <tr>\n",
              "      <th>30</th>\n",
              "      <td>1998-10-03</td>\n",
              "      <td>efectivo</td>\n",
              "    </tr>\n",
              "    <tr>\n",
              "      <th>10</th>\n",
              "      <td>1998-11-03</td>\n",
              "      <td>efectivo</td>\n",
              "    </tr>\n",
              "    <tr>\n",
              "      <th>20</th>\n",
              "      <td>1998-11-03</td>\n",
              "      <td>efectivo</td>\n",
              "    </tr>\n",
              "    <tr>\n",
              "      <th>0</th>\n",
              "      <td>1998-12-03</td>\n",
              "      <td>efectivo</td>\n",
              "    </tr>\n",
              "    <tr>\n",
              "      <th>19</th>\n",
              "      <td>1998-12-05</td>\n",
              "      <td>efectivo</td>\n",
              "    </tr>\n",
              "  </tbody>\n",
              "</table>\n",
              "</div>"
            ],
            "text/plain": [
              "   fecha_nacimiento                              tipo_pago_id\n",
              "22       1956-05-17  tarjeta de debito                       \n",
              "2        1956-06-17  tarjeta de debito                       \n",
              "12       1956-06-17  tarjeta de debito                       \n",
              "32       1956-08-17  tarjeta de debito                       \n",
              "33       1973-05-26  tarjeta de credito                      \n",
              "24       1973-05-30  tarjeta de credito                      \n",
              "23       1973-07-26  tarjeta de credito                      \n",
              "13       1973-07-26  tarjeta de credito                      \n",
              "4        1973-08-30  tarjeta de credito                      \n",
              "14       1973-08-30  tarjeta de credito                      \n",
              "3        1973-10-26  tarjeta de credito                      \n",
              "18       1979-10-01  efectivo                                \n",
              "28       1979-11-01  efectivo                                \n",
              "8        1979-11-01  efectivo                                \n",
              "38       1979-11-01  efectivo                                \n",
              "36       1980-04-01  tarjeta de debito                       \n",
              "26       1980-08-11  tarjeta de debito                       \n",
              "6        1980-09-11  tarjeta de debito                       \n",
              "16       1980-10-11  tarjeta de debito                       \n",
              "37       1985-01-01  efectivo                                \n",
              "27       1985-03-10  efectivo                                \n",
              "7        1985-04-10  efectivo                                \n",
              "17       1985-06-10  efectivo                                \n",
              "34       1990-01-05  tarjeta de credito                      \n",
              "21       1990-01-16  tarjeta de credito                      \n",
              "1        1990-02-16  tarjeta de credito                      \n",
              "11       1990-03-16  tarjeta de credito                      \n",
              "31       1990-07-16  tarjeta de credito                      \n",
              "15       1991-01-11  tarjeta de credito                      \n",
              "25       1991-01-11  tarjeta de credito                      \n",
              "5        1991-03-11  tarjeta de credito                      \n",
              "35       1991-03-13  tarjeta de credito                      \n",
              "39       1998-01-05  efectivo                                \n",
              "9        1998-01-05  efectivo                                \n",
              "29       1998-02-05  efectivo                                \n",
              "30       1998-10-03  efectivo                                \n",
              "10       1998-11-03  efectivo                                \n",
              "20       1998-11-03  efectivo                                \n",
              "0        1998-12-03  efectivo                                \n",
              "19       1998-12-05  efectivo                                "
            ]
          },
          "metadata": {
            "tags": []
          },
          "execution_count": 9
        }
      ]
    },
    {
      "cell_type": "markdown",
      "metadata": {
        "id": "GiTOWa_sko3V"
      },
      "source": [
        "Teniendo los datos ordenados, procedemos a realizar el algoritmo de K-Nearest Neighbors"
      ]
    },
    {
      "cell_type": "code",
      "metadata": {
        "id": "W2XBV9ublPFZ"
      },
      "source": [
        "def predict_payment_type(date_birth, k=7):   \r\n",
        "  '''\r\n",
        "  A la funcion se le pasa una fecha a consultar junto con \r\n",
        "  el numero de vecinos en el quese fijara el\r\n",
        "  algoritmo para realizar la busqueda.\r\n",
        "  '''\r\n",
        "  date_birth = pd.to_datetime(date_birth, format='%Y/%m/%d')\r\n",
        "  labels = list(set(data['tipo_pago_id']))\r\n",
        "\r\n",
        "  vals = range(len(labels))\r\n",
        "  lbls = zip(labels,vals)\r\n",
        "  labels_dict = dict(lbls)\r\n",
        "  freqs = [0]*len(labels)\r\n",
        "\r\n",
        "  backward = k//2 \r\n",
        "  forward = k//2 + 1\r\n",
        "\r\n",
        "  forwards = list(data[data['fecha_nacimiento'] > date_birth]['tipo_pago_id'])\r\n",
        "  backwards = list(data[data['fecha_nacimiento'] < date_birth]['tipo_pago_id'])\r\n",
        "  backwards.reverse()\r\n",
        "\r\n",
        "  distance_1 = min(len(backwards),backward)\r\n",
        "  distance_2 = min(len(forwards),forward)\r\n",
        "\r\n",
        "  for i in range(distance_1):\r\n",
        "    labl = backwards[i]\r\n",
        "    freqs[labels_dict[labl]]+=1\r\n",
        "\r\n",
        "  for i in range(distance_2):\r\n",
        "    labl = forwards[i]\r\n",
        "    freqs[labels_dict[labl]]+=1\r\n",
        "  \r\n",
        "  prediction_index = np.argmax(freqs)\r\n",
        "\r\n",
        "  return list(labels_dict.keys())[prediction_index]"
      ],
      "execution_count": null,
      "outputs": []
    },
    {
      "cell_type": "code",
      "metadata": {
        "colab": {
          "base_uri": "https://localhost:8080/"
        },
        "id": "1Qp0JWfRRghO",
        "outputId": "f26476d7-66d4-4b8a-92ef-992d70cc0190"
      },
      "source": [
        "print(predict_payment_type('1970-10-28'))\r\n",
        "print(predict_payment_type('1974-06-03'))\r\n",
        "print(predict_payment_type('1999-07-12'))"
      ],
      "execution_count": null,
      "outputs": [
        {
          "output_type": "stream",
          "text": [
            "tarjeta de debito                       \n",
            "tarjeta de credito                      \n",
            "efectivo                                \n"
          ],
          "name": "stdout"
        }
      ]
    },
    {
      "cell_type": "markdown",
      "metadata": {
        "id": "Z3mU0cjZowoG"
      },
      "source": [
        "#2. En base a la edad de un nuevo cliente, predecir si es asiduo o eventual.\r\n",
        "\r\n",
        "Esta consulta se puede hacer de manera muy similar a la anterior utilizando el algoritmo de KNN, la unica diferencia estara en las etiquietas que se evaluaran."
      ]
    },
    {
      "cell_type": "code",
      "metadata": {
        "id": "n8x2VUkcovhG"
      },
      "source": [
        " tipo_cliente = pd.read_csv('/content/tipo_cliente.csv')"
      ],
      "execution_count": null,
      "outputs": []
    },
    {
      "cell_type": "code",
      "metadata": {
        "colab": {
          "base_uri": "https://localhost:8080/",
          "height": 195
        },
        "id": "8uspafwupual",
        "outputId": "d008e7cb-f3e4-4646-feca-d16fc518ce51"
      },
      "source": [
        "#Guardamos en una tabla el dataframe correspondiente a las fechas de nacimiento de los clientes registrados junto con sus tipos de pago. \r\n",
        "q2=\"\"\"SELECT \r\n",
        "fecha_nacimiento, tipo_cliente_desc\r\n",
        "FROM\r\n",
        "cliente JOIN tipo_cliente ON cliente.tipo_clente_id == tipo_cliente.tipo_clente_id\"\"\"\r\n",
        "data2 = ps.sqldf(q2,locals())\r\n",
        "data2['fecha_nacimiento'] = pd.to_datetime(data2['fecha_nacimiento'], format='%Y/%m/%d')\r\n",
        "data2.sort_values(by='fecha_nacimiento')\r\n",
        "data2.head()"
      ],
      "execution_count": null,
      "outputs": [
        {
          "output_type": "execute_result",
          "data": {
            "text/html": [
              "<div>\n",
              "<style scoped>\n",
              "    .dataframe tbody tr th:only-of-type {\n",
              "        vertical-align: middle;\n",
              "    }\n",
              "\n",
              "    .dataframe tbody tr th {\n",
              "        vertical-align: top;\n",
              "    }\n",
              "\n",
              "    .dataframe thead th {\n",
              "        text-align: right;\n",
              "    }\n",
              "</style>\n",
              "<table border=\"1\" class=\"dataframe\">\n",
              "  <thead>\n",
              "    <tr style=\"text-align: right;\">\n",
              "      <th></th>\n",
              "      <th>fecha_nacimiento</th>\n",
              "      <th>tipo_cliente_desc</th>\n",
              "    </tr>\n",
              "  </thead>\n",
              "  <tbody>\n",
              "    <tr>\n",
              "      <th>0</th>\n",
              "      <td>1998-12-03</td>\n",
              "      <td>asiduo</td>\n",
              "    </tr>\n",
              "    <tr>\n",
              "      <th>1</th>\n",
              "      <td>1990-02-16</td>\n",
              "      <td>asiduo</td>\n",
              "    </tr>\n",
              "    <tr>\n",
              "      <th>2</th>\n",
              "      <td>1956-06-17</td>\n",
              "      <td>asiduo</td>\n",
              "    </tr>\n",
              "    <tr>\n",
              "      <th>3</th>\n",
              "      <td>1973-10-26</td>\n",
              "      <td>asiduo</td>\n",
              "    </tr>\n",
              "    <tr>\n",
              "      <th>4</th>\n",
              "      <td>1973-08-30</td>\n",
              "      <td>asiduo</td>\n",
              "    </tr>\n",
              "  </tbody>\n",
              "</table>\n",
              "</div>"
            ],
            "text/plain": [
              "  fecha_nacimiento                         tipo_cliente_desc\n",
              "0       1998-12-03  asiduo                                  \n",
              "1       1990-02-16  asiduo                                  \n",
              "2       1956-06-17  asiduo                                  \n",
              "3       1973-10-26  asiduo                                  \n",
              "4       1973-08-30  asiduo                                  "
            ]
          },
          "metadata": {
            "tags": []
          },
          "execution_count": 126
        }
      ]
    },
    {
      "cell_type": "code",
      "metadata": {
        "id": "razbssptrnt_"
      },
      "source": [
        "def predict_client_type(date_birth, k=7):   \r\n",
        "  '''\r\n",
        "  A la funcion se le pasa una fecha a consultar junto con \r\n",
        "  el numero de vecinos en el quese fijara el\r\n",
        "  algoritmo para realizar la busqueda.\r\n",
        "  '''\r\n",
        "  date_birth = pd.to_datetime(date_birth, format='%Y/%m/%d')\r\n",
        "  labels = list(set(data2['tipo_cliente_desc']))\r\n",
        "\r\n",
        "  vals = range(len(labels))\r\n",
        "  lbls = zip(labels,vals)\r\n",
        "  labels_dict = dict(lbls)\r\n",
        "  freqs = [0]*len(labels)\r\n",
        "\r\n",
        "  backward = k//2 \r\n",
        "  forward = k//2 + 1\r\n",
        "\r\n",
        "  forwards = list(data2[data2['fecha_nacimiento'] > date_birth]['tipo_cliente_desc'])\r\n",
        "  backwards = list(data2[data2['fecha_nacimiento'] < date_birth]['tipo_cliente_desc'])\r\n",
        "  backwards.reverse()\r\n",
        "\r\n",
        "  distance_1 = min(len(backwards),backward)\r\n",
        "  distance_2 = min(len(forwards),forward)\r\n",
        "\r\n",
        "  for i in range(distance_1):\r\n",
        "    labl = backwards[i]\r\n",
        "    freqs[labels_dict[labl]]+=1\r\n",
        "\r\n",
        "  for i in range(distance_2):\r\n",
        "    labl = forwards[i]\r\n",
        "    freqs[labels_dict[labl]]+=1\r\n",
        "  \r\n",
        "  prediction_index = np.argmax(freqs)\r\n",
        "\r\n",
        "  return list(labels_dict.keys())[prediction_index]"
      ],
      "execution_count": null,
      "outputs": []
    },
    {
      "cell_type": "code",
      "metadata": {
        "colab": {
          "base_uri": "https://localhost:8080/"
        },
        "id": "sAPgNYbVqskT",
        "outputId": "84697e17-803e-4c31-81b0-e639a2c41074"
      },
      "source": [
        "#Realizamos las consultas predectivas con la funcion creada anteriormente\r\n",
        "print(predict_client_type('1970-10-28'))\r\n",
        "print(predict_client_type('1974-06-03'))\r\n",
        "print(predict_client_type('1999-07-12'))"
      ],
      "execution_count": null,
      "outputs": [
        {
          "output_type": "stream",
          "text": [
            "asiduo                                  \n",
            "asiduo                                  \n",
            "eventual                                \n"
          ],
          "name": "stdout"
        }
      ]
    },
    {
      "cell_type": "markdown",
      "metadata": {
        "id": "hiDAUviELByi"
      },
      "source": [
        "#3. Predecir entradas vendidas por mes. \r\n",
        "\r\n",
        "Tomaremos los datos de hechos y horarios para poder obtener la fecha de las visitas al cine y el numero de entradas que se compraron por mes."
      ]
    },
    {
      "cell_type": "code",
      "metadata": {
        "id": "NvM8ZOvFLByj"
      },
      "source": [
        "hechos=pd.read_csv('hechos.csv')\r\n",
        "horario=pd.read_csv('horario.csv')"
      ],
      "execution_count": null,
      "outputs": []
    },
    {
      "cell_type": "markdown",
      "metadata": {
        "id": "wFi1LVpOLByj"
      },
      "source": [
        "Uniremos las dos tablas necesarias mediante una consulta de sql para poder obtener las fechas y numero de entradas compradas por los clientes"
      ]
    },
    {
      "cell_type": "code",
      "metadata": {
        "id": "JbKc3i0nLByk"
      },
      "source": [
        "q1=\"\"\"SELECT fecha, sum(num_entradas) as num_entradas, importe \r\n",
        "FROM\r\n",
        "horario JOIN hechos ON horario.hora == hechos.hora\r\n",
        "GROUP BY fecha\r\n",
        "\"\"\"\r\n",
        "data = ps.sqldf(q1,locals())"
      ],
      "execution_count": null,
      "outputs": []
    },
    {
      "cell_type": "markdown",
      "metadata": {
        "id": "bS2Rz6ctNU5X"
      },
      "source": [
        "Agruparemos los datos por mes, es decir, sumaremos todas las entradas vendidas en Enero, después las de Febrero y asi sucesivamente para obtener los totales vendidos por mes."
      ]
    },
    {
      "cell_type": "code",
      "metadata": {
        "colab": {
          "base_uri": "https://localhost:8080/",
          "height": 432
        },
        "id": "TQQbaVNdLByk",
        "outputId": "df35334a-093b-49b8-af16-ccc28ceb55a7"
      },
      "source": [
        "data['fecha'] = pd.to_datetime(data['fecha'], format='%Y/%m/%d')\r\n",
        "data.sort_values(by='fecha')\r\n",
        "data.index = data['fecha']\r\n",
        "data.resample(\"M\").sum()"
      ],
      "execution_count": null,
      "outputs": [
        {
          "output_type": "execute_result",
          "data": {
            "text/html": [
              "<div>\n",
              "<style scoped>\n",
              "    .dataframe tbody tr th:only-of-type {\n",
              "        vertical-align: middle;\n",
              "    }\n",
              "\n",
              "    .dataframe tbody tr th {\n",
              "        vertical-align: top;\n",
              "    }\n",
              "\n",
              "    .dataframe thead th {\n",
              "        text-align: right;\n",
              "    }\n",
              "</style>\n",
              "<table border=\"1\" class=\"dataframe\">\n",
              "  <thead>\n",
              "    <tr style=\"text-align: right;\">\n",
              "      <th></th>\n",
              "      <th>num_entradas</th>\n",
              "    </tr>\n",
              "    <tr>\n",
              "      <th>fecha</th>\n",
              "      <th></th>\n",
              "    </tr>\n",
              "  </thead>\n",
              "  <tbody>\n",
              "    <tr>\n",
              "      <th>2019-01-31</th>\n",
              "      <td>14</td>\n",
              "    </tr>\n",
              "    <tr>\n",
              "      <th>2019-02-28</th>\n",
              "      <td>0</td>\n",
              "    </tr>\n",
              "    <tr>\n",
              "      <th>2019-03-31</th>\n",
              "      <td>56</td>\n",
              "    </tr>\n",
              "    <tr>\n",
              "      <th>2019-04-30</th>\n",
              "      <td>0</td>\n",
              "    </tr>\n",
              "    <tr>\n",
              "      <th>2019-05-31</th>\n",
              "      <td>19</td>\n",
              "    </tr>\n",
              "    <tr>\n",
              "      <th>2019-06-30</th>\n",
              "      <td>0</td>\n",
              "    </tr>\n",
              "    <tr>\n",
              "      <th>2019-07-31</th>\n",
              "      <td>25</td>\n",
              "    </tr>\n",
              "    <tr>\n",
              "      <th>2019-08-31</th>\n",
              "      <td>65</td>\n",
              "    </tr>\n",
              "    <tr>\n",
              "      <th>2019-09-30</th>\n",
              "      <td>0</td>\n",
              "    </tr>\n",
              "    <tr>\n",
              "      <th>2019-10-31</th>\n",
              "      <td>0</td>\n",
              "    </tr>\n",
              "    <tr>\n",
              "      <th>2019-11-30</th>\n",
              "      <td>4</td>\n",
              "    </tr>\n",
              "    <tr>\n",
              "      <th>2019-12-31</th>\n",
              "      <td>29</td>\n",
              "    </tr>\n",
              "  </tbody>\n",
              "</table>\n",
              "</div>"
            ],
            "text/plain": [
              "            num_entradas\n",
              "fecha                   \n",
              "2019-01-31            14\n",
              "2019-02-28             0\n",
              "2019-03-31            56\n",
              "2019-04-30             0\n",
              "2019-05-31            19\n",
              "2019-06-30             0\n",
              "2019-07-31            25\n",
              "2019-08-31            65\n",
              "2019-09-30             0\n",
              "2019-10-31             0\n",
              "2019-11-30             4\n",
              "2019-12-31            29"
            ]
          },
          "metadata": {
            "tags": []
          },
          "execution_count": 9
        }
      ]
    },
    {
      "cell_type": "code",
      "metadata": {
        "colab": {
          "base_uri": "https://localhost:8080/",
          "height": 390
        },
        "id": "pi_5BHhWo6vY",
        "outputId": "50326529-1c50-43b8-8fea-d7a56cacebe4"
      },
      "source": [
        "import matplotlib.pyplot as plt\r\n",
        "plt.figure(figsize=(12,6))\r\n",
        "plt.plot(data.num_entradas)\r\n",
        "plt.title('Entradas vendidas por mes')\r\n",
        "plt.grid()\r\n",
        "plt.show()"
      ],
      "execution_count": null,
      "outputs": [
        {
          "output_type": "display_data",
          "data": {
            "image/png": "[encoded data removed]",
            "text/plain": [
              "<Figure size 864x432 with 1 Axes>"
            ]
          },
          "metadata": {
            "tags": [],
            "needs_background": "light"
          }
        }
      ]
    },
    {
      "cell_type": "markdown",
      "metadata": {
        "id": "5cVukz1lNpW2"
      },
      "source": [
        "Utilizaremos medias moviles para poder encontrar el patron con el que los cliente visitan y compran entradas en el cine, utilizando una ventana de 2 meses obtenermos la siguiente aproximación."
      ]
    },
    {
      "cell_type": "code",
      "metadata": {
        "id": "JvbsXVyppf9P"
      },
      "source": [
        "def moving_mean(serie,n):\r\n",
        "    return np.average(serie[-n:])\r\n",
        "\r\n",
        "from sklearn.metrics import mean_absolute_error\r\n",
        "\r\n",
        "def mean_absolute_porcentage_error(y_true, y_pred):\r\n",
        "    return np.mean(np.abs((y_true-y_pred)/y_true))*100\r\n",
        "\r\n",
        "def plotMovingAverage(series, window, intervals=False, scale=1.96, plot_anomalies=False):\r\n",
        "    rolling_mean = series.rolling(window=window).mean()\r\n",
        "    plt.figure(figsize=(15,3))\r\n",
        "    plt.title('Media movil \\ntamaño de ventana ={}'.format(window))\r\n",
        "    plt.plot(rolling_mean,'g', label='Tendencia por media movil')\r\n",
        "\r\n",
        "    #Intervalo de confianza\r\n",
        "    if intervals:\r\n",
        "        mae = mean_absolute_error(series[window:], rolling_mean[window:])\r\n",
        "        deviation = np.std(series[window:]-rolling_mean[window:])\r\n",
        "        lower_bound = rolling_mean - (mae + scale * deviation)\r\n",
        "        upper_bound = rolling_mean + (mae + scale * deviation)\r\n",
        "        plt.plot(lower_bound, 'r--', label='Límite sup/inf')\r\n",
        "        plt.plot(upper_bound, 'r--')\r\n",
        "\r\n",
        "    #Anomalias\r\n",
        "    if plot_anomalies:\r\n",
        "        anomalies = pd.DataFrame(index=series.index, columns=series.columns)\r\n",
        "        anomalies[series < lower_bound ]= series[ series < lower_bound]\r\n",
        "        anomalies[series > upper_bound ]= series[ series > upper_bound]\r\n",
        "        plt.plot(anomalies, 'ro', markersize =10)\r\n",
        "\r\n",
        "    plt.plot(series[window:], label='Valores reales')\r\n",
        "    plt.legend(loc='upper left')\r\n",
        "    plt.grid(True)\r\n",
        "    plt.show()"
      ],
      "execution_count": null,
      "outputs": []
    },
    {
      "cell_type": "code",
      "metadata": {
        "colab": {
          "base_uri": "https://localhost:8080/",
          "height": 242
        },
        "id": "g0yG-SjfprGU",
        "outputId": "dd4d1c40-a140-42b3-f318-330f04ae398f"
      },
      "source": [
        "plotMovingAverage(data.num_entradas,2,intervals=True, scale=1.96)"
      ],
      "execution_count": null,
      "outputs": [
        {
          "output_type": "display_data",
          "data": {
            "image/png": "[encoded data removed]",
            "text/plain": [
              "<Figure size 1080x216 with 1 Axes>"
            ]
          },
          "metadata": {
            "tags": [],
            "needs_background": "light"
          }
        }
      ]
    },
    {
      "cell_type": "markdown",
      "metadata": {
        "id": "YRSCVE4IOTH1"
      },
      "source": [
        "Tambien aplicando K-vecinos cercanos podemos obtener una predicción sobre el número de entradas que se venderán en determinada fecha."
      ]
    },
    {
      "cell_type": "code",
      "metadata": {
        "id": "oyfHSXrALBym"
      },
      "source": [
        "def predict_tickets(date, consult, k=7):   \r\n",
        "  '''\r\n",
        "  A la funcion se le pasa una fecha a consultar junto con \r\n",
        "  el numero de vecinos en el quese fijara el\r\n",
        "  algoritmo para realizar la busqueda.\r\n",
        "  '''\r\n",
        "  date = pd.to_datetime(date, format='%Y/%m/%d')\r\n",
        "  labels = list(set(consult['num_entradas']))\r\n",
        "\r\n",
        "  vals = range(len(labels))\r\n",
        "  lbls = zip(labels,vals)\r\n",
        "  labels_dict = dict(lbls)\r\n",
        "  freqs = [0]*len(labels)\r\n",
        "\r\n",
        "  backward = k//2 \r\n",
        "  forward = k//2 + 1\r\n",
        "\r\n",
        "  forwards = list(consult[consult['fecha'] > date]['num_entradas'])\r\n",
        "  backwards = list(consult[consult['fecha'] < date]['num_entradas'])\r\n",
        "  backwards.reverse()\r\n",
        "\r\n",
        "  distance_1 = min(len(backwards),backward)\r\n",
        "  distance_2 = min(len(forwards),forward)\r\n",
        "\r\n",
        "  for i in range(distance_1):\r\n",
        "    labl = backwards[i]\r\n",
        "    freqs[labels_dict[labl]]+=1\r\n",
        "\r\n",
        "  for i in range(distance_2):\r\n",
        "    labl = forwards[i]\r\n",
        "    freqs[labels_dict[labl]]+=1\r\n",
        "  \r\n",
        "  prediction_index = np.argmax(freqs)\r\n",
        "\r\n",
        "  return list(labels_dict.keys())[prediction_index]"
      ],
      "execution_count": null,
      "outputs": []
    },
    {
      "cell_type": "code",
      "metadata": {
        "colab": {
          "base_uri": "https://localhost:8080/"
        },
        "id": "6uHAWFmPLoeG",
        "outputId": "9b5892c3-9fb5-462c-dd63-1eb53387bd51"
      },
      "source": [
        "print(predict_tickets('2020-01-31',data))\r\n",
        "print(predict_tickets('2000-10-03',data))"
      ],
      "execution_count": null,
      "outputs": [
        {
          "output_type": "stream",
          "text": [
            "35\n",
            "5\n"
          ],
          "name": "stdout"
        }
      ]
    },
    {
      "cell_type": "markdown",
      "metadata": {
        "id": "x-jmbOx9FyEw"
      },
      "source": [
        "## 4.Decidir tipo de sala en oferta"
      ]
    },
    {
      "cell_type": "code",
      "metadata": {
        "id": "0Si_WFEeEutI"
      },
      "source": [
        "import pandas as pd \r\n",
        "import pandasql as ps\r\n",
        "import numpy"
      ],
      "execution_count": null,
      "outputs": []
    },
    {
      "cell_type": "code",
      "metadata": {
        "id": "l2Q1-6jDFnlP"
      },
      "source": [
        "hechos=pd.read_csv('/hechos.csv')\r\n",
        "sala =pd.read_csv('/sala.csv')\r\n",
        "tipo_sala =pd.read_csv('/tipo_sala.csv')"
      ],
      "execution_count": null,
      "outputs": []
    },
    {
      "cell_type": "code",
      "metadata": {
        "id": "M20Hb9FiFnYJ",
        "colab": {
          "base_uri": "https://localhost:8080/",
          "height": 204
        },
        "outputId": "592034c4-cbf9-4d68-cf33-7d3b09a318c1"
      },
      "source": [
        "hechos.head()"
      ],
      "execution_count": null,
      "outputs": [
        {
          "output_type": "execute_result",
          "data": {
            "text/html": [
              "<div>\n",
              "<style scoped>\n",
              "    .dataframe tbody tr th:only-of-type {\n",
              "        vertical-align: middle;\n",
              "    }\n",
              "\n",
              "    .dataframe tbody tr th {\n",
              "        vertical-align: top;\n",
              "    }\n",
              "\n",
              "    .dataframe thead th {\n",
              "        text-align: right;\n",
              "    }\n",
              "</style>\n",
              "<table border=\"1\" class=\"dataframe\">\n",
              "  <thead>\n",
              "    <tr style=\"text-align: right;\">\n",
              "      <th></th>\n",
              "      <th>sala_id</th>\n",
              "      <th>cliente_id</th>\n",
              "      <th>pelicula_id</th>\n",
              "      <th>hora</th>\n",
              "      <th>tipo_pago_id</th>\n",
              "      <th>num_entradas</th>\n",
              "      <th>importe</th>\n",
              "    </tr>\n",
              "  </thead>\n",
              "  <tbody>\n",
              "    <tr>\n",
              "      <th>0</th>\n",
              "      <td>101</td>\n",
              "      <td>1</td>\n",
              "      <td>1</td>\n",
              "      <td>12:05:06</td>\n",
              "      <td>efectivo</td>\n",
              "      <td>3</td>\n",
              "      <td>$ 450.00</td>\n",
              "    </tr>\n",
              "    <tr>\n",
              "      <th>1</th>\n",
              "      <td>102</td>\n",
              "      <td>2</td>\n",
              "      <td>2</td>\n",
              "      <td>19:30:15</td>\n",
              "      <td>tarjeta de credito</td>\n",
              "      <td>1</td>\n",
              "      <td>$ 75.00</td>\n",
              "    </tr>\n",
              "    <tr>\n",
              "      <th>2</th>\n",
              "      <td>103</td>\n",
              "      <td>3</td>\n",
              "      <td>3</td>\n",
              "      <td>14:58:00</td>\n",
              "      <td>tarjeta de debito</td>\n",
              "      <td>2</td>\n",
              "      <td>$ 240.00</td>\n",
              "    </tr>\n",
              "    <tr>\n",
              "      <th>3</th>\n",
              "      <td>104</td>\n",
              "      <td>4</td>\n",
              "      <td>4</td>\n",
              "      <td>15:00:00</td>\n",
              "      <td>tarjeta de credito</td>\n",
              "      <td>1</td>\n",
              "      <td>$ 175.00</td>\n",
              "    </tr>\n",
              "    <tr>\n",
              "      <th>4</th>\n",
              "      <td>105</td>\n",
              "      <td>5</td>\n",
              "      <td>5</td>\n",
              "      <td>11:15:59</td>\n",
              "      <td>tarjeta de credito</td>\n",
              "      <td>2</td>\n",
              "      <td>$ 350.00</td>\n",
              "    </tr>\n",
              "  </tbody>\n",
              "</table>\n",
              "</div>"
            ],
            "text/plain": [
              "   sala_id  cliente_id  ...  num_entradas   importe\n",
              "0      101           1  ...             3  $ 450.00\n",
              "1      102           2  ...             1   $ 75.00\n",
              "2      103           3  ...             2  $ 240.00\n",
              "3      104           4  ...             1  $ 175.00\n",
              "4      105           5  ...             2  $ 350.00\n",
              "\n",
              "[5 rows x 7 columns]"
            ]
          },
          "metadata": {
            "tags": []
          },
          "execution_count": 45
        }
      ]
    },
    {
      "cell_type": "code",
      "metadata": {
        "id": "vMPbWe3GGFZZ"
      },
      "source": [
        "q1=\"\"\"select NUM_ENTRADAS as \"entradas\",s.TIPO_SALA_ID\r\n",
        "from hechos join sala s on HECHOS.SALA_ID = s.sala_id join sala s2 on s.TIPO_SALA_ID = s2.tipo_sala_id\r\n",
        "\r\n",
        "\r\n",
        "\"\"\"\r\n",
        "data = ps.sqldf(q1,locals())"
      ],
      "execution_count": null,
      "outputs": []
    },
    {
      "cell_type": "code",
      "metadata": {
        "id": "JiKWF57lGJ3I",
        "colab": {
          "base_uri": "https://localhost:8080/",
          "height": 204
        },
        "outputId": "41341d7f-effe-4111-85ad-5ff059f2b071"
      },
      "source": [
        "data.head()"
      ],
      "execution_count": null,
      "outputs": [
        {
          "output_type": "execute_result",
          "data": {
            "text/html": [
              "<div>\n",
              "<style scoped>\n",
              "    .dataframe tbody tr th:only-of-type {\n",
              "        vertical-align: middle;\n",
              "    }\n",
              "\n",
              "    .dataframe tbody tr th {\n",
              "        vertical-align: top;\n",
              "    }\n",
              "\n",
              "    .dataframe thead th {\n",
              "        text-align: right;\n",
              "    }\n",
              "</style>\n",
              "<table border=\"1\" class=\"dataframe\">\n",
              "  <thead>\n",
              "    <tr style=\"text-align: right;\">\n",
              "      <th></th>\n",
              "      <th>entradas</th>\n",
              "      <th>tipo_sala_id</th>\n",
              "    </tr>\n",
              "  </thead>\n",
              "  <tbody>\n",
              "    <tr>\n",
              "      <th>0</th>\n",
              "      <td>3</td>\n",
              "      <td>50</td>\n",
              "    </tr>\n",
              "    <tr>\n",
              "      <th>1</th>\n",
              "      <td>3</td>\n",
              "      <td>50</td>\n",
              "    </tr>\n",
              "    <tr>\n",
              "      <th>2</th>\n",
              "      <td>3</td>\n",
              "      <td>50</td>\n",
              "    </tr>\n",
              "    <tr>\n",
              "      <th>3</th>\n",
              "      <td>1</td>\n",
              "      <td>51</td>\n",
              "    </tr>\n",
              "    <tr>\n",
              "      <th>4</th>\n",
              "      <td>1</td>\n",
              "      <td>51</td>\n",
              "    </tr>\n",
              "  </tbody>\n",
              "</table>\n",
              "</div>"
            ],
            "text/plain": [
              "   entradas  tipo_sala_id\n",
              "0         3            50\n",
              "1         3            50\n",
              "2         3            50\n",
              "3         1            51\n",
              "4         1            51"
            ]
          },
          "metadata": {
            "tags": []
          },
          "execution_count": 47
        }
      ]
    },
    {
      "cell_type": "code",
      "metadata": {
        "id": "eIdEbVE9Pgwt"
      },
      "source": [
        "import numpy as np \r\n",
        "from matplotlib import pylab as plt \r\n",
        "plt.rcParams['figure.figsize']=(10,9)\r\n",
        "plt.style.use('ggplot')"
      ],
      "execution_count": null,
      "outputs": []
    },
    {
      "cell_type": "code",
      "metadata": {
        "id": "-ZF3YRRLPgpm",
        "colab": {
          "base_uri": "https://localhost:8080/",
          "height": 555
        },
        "outputId": "c1d1aadc-b5f0-4015-ba82-8a6116f9949b"
      },
      "source": [
        "f2= data.entradas.values\r\n",
        "f1= data.tipo_sala_id.values\r\n",
        "plt.scatter(f1,f2,s=10)"
      ],
      "execution_count": null,
      "outputs": [
        {
          "output_type": "execute_result",
          "data": {
            "text/plain": [
              "<matplotlib.collections.PathCollection at 0x7f09acfcb6a0>"
            ]
          },
          "metadata": {
            "tags": []
          },
          "execution_count": 49
        },
        {
          "output_type": "display_data",
          "data": {
            "image/png": "[encoded data removed]",
            "text/plain": [
              "<Figure size 720x648 with 1 Axes>"
            ]
          },
          "metadata": {
            "tags": []
          }
        }
      ]
    },
    {
      "cell_type": "code",
      "metadata": {
        "id": "P_NezwO8PgfC",
        "colab": {
          "base_uri": "https://localhost:8080/"
        },
        "outputId": "f76fd6c5-61f6-4158-e268-0dd3a051b29c"
      },
      "source": [
        "from sklearn.cluster import KMeans\r\n",
        "X = np.array(list(zip(f1,f2)))\r\n",
        "kmeans = KMeans(n_clusters=1)\r\n",
        "kmeans = kmeans.fit(X)\r\n",
        "y=kmeans.predict(X)\r\n",
        "C_ = kmeans.cluster_centers_\r\n",
        "C_"
      ],
      "execution_count": null,
      "outputs": [
        {
          "output_type": "execute_result",
          "data": {
            "text/plain": [
              "array([[51.11538462,  5.84615385]])"
            ]
          },
          "metadata": {
            "tags": []
          },
          "execution_count": 50
        }
      ]
    },
    {
      "cell_type": "code",
      "metadata": {
        "id": "73G_cW9sPm1u",
        "colab": {
          "base_uri": "https://localhost:8080/",
          "height": 555
        },
        "outputId": "0ef60daf-eb71-466d-9af2-6c360dd58fcc"
      },
      "source": [
        "fig , ax = plt.subplots()\r\n",
        "ax.scatter(X[:,0],X[:,1],c=y)\r\n",
        "ax.scatter(C_[:,0],C_[:,1],marker='*',s=200,c='k')\r\n"
      ],
      "execution_count": null,
      "outputs": [
        {
          "output_type": "execute_result",
          "data": {
            "text/plain": [
              "<matplotlib.collections.PathCollection at 0x7f09acf412e8>"
            ]
          },
          "metadata": {
            "tags": []
          },
          "execution_count": 51
        },
        {
          "output_type": "display_data",
          "data": {
            "image/png": "[encoded data removed]",
            "text/plain": [
              "<Figure size 720x648 with 1 Axes>"
            ]
          },
          "metadata": {
            "tags": []
          }
        }
      ]
    }
  ]
}