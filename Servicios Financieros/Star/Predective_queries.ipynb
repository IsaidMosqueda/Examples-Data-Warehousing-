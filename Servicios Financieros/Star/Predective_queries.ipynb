{
  "nbformat": 4,
  "nbformat_minor": 0,
  "metadata": {
    "colab": {
      "name": "Practica 8.ipynb",
      "provenance": [],
      "collapsed_sections": []
    },
    "kernelspec": {
      "name": "python3",
      "display_name": "Python 3"
    }
  },
  "cells": [
    {
      "cell_type": "markdown",
      "metadata": {
        "id": "XnoQRqAcPpHF"
      },
      "source": [
        "<font color=\"Teal\" face=\"Comic Sans MS,arial\">\r\n",
        "  <h1 align=\"center\"><i> Practica 8 </i></h1>\r\n",
        "  </font>\r\n",
        "  <h3 align=\"center\"><i>  </i></h3>\r\n",
        "  </font>\r\n",
        "  <font color=\"Black\" face=\"Comic Sans MS,arial\">\r\n",
        "  <h4 align=\"center\"><i> Bases de datos estructuradas</i></h5>\r\n",
        "  <h5 align=\"center\"><i>Autores: Mosqueda García Raul Isaid 315096574</i></h5>\r\n",
        "  <h5 align=\"center\"><i>  Ruiz Puga Ingrid Pamela 314012926</i></h5>\r\n",
        "  <h5 align=\"center\"><i>  Veleros Vega Luis Alfonso 314271646</i></h5>\r\n",
        " </font>\r\n",
        "\r\n",
        "---"
      ]
    },
    {
      "cell_type": "markdown",
      "metadata": {
        "id": "SQdRES2nIGuA"
      },
      "source": [
        "Para esta practica se operara con los csv descargados de la base de datos del servidor. "
      ]
    },
    {
      "cell_type": "markdown",
      "metadata": {
        "id": "m7kp9UNh1nbt"
      },
      "source": [
        "#1. \r\n",
        "Se desea saber con base en la información de los clientes que han pedido préstamo personal. Quienes son\r\n",
        "los más adecuados para promocionarles algún préstamo hipotecario. Generar grafica o reporte que permita saber el\r\n",
        "patrón de manejo de cuenta (por ejemplo) y clasificarlo/agruparlo como buen prospecto para préstamo hipotecario.\r\n",
        "¿Qué puede concluir, recomendar o decisión tomar a partir de esta información?"
      ]
    },
    {
      "cell_type": "code",
      "metadata": {
        "colab": {
          "base_uri": "https://localhost:8080/"
        },
        "id": "oTfl86WPy3dd",
        "outputId": "f68c7b4f-c38a-4c04-8ea1-3ac93882d5fc"
      },
      "source": [
        "!pip install pandasql"
      ],
      "execution_count": null,
      "outputs": [
        {
          "output_type": "stream",
          "text": [
            "Collecting pandasql\n",
            "  Downloading https://files.pythonhosted.org/packages/6b/c4/ee4096ffa2eeeca0c749b26f0371bd26aa5c8b611c43de99a4f86d3de0a7/pandasql-0.7.3.tar.gz\n",
            "Requirement already satisfied: numpy in /usr/local/lib/python3.6/dist-packages (from pandasql) (1.19.5)\n",
            "Requirement already satisfied: pandas in /usr/local/lib/python3.6/dist-packages (from pandasql) (1.1.5)\n",
            "Requirement already satisfied: sqlalchemy in /usr/local/lib/python3.6/dist-packages (from pandasql) (1.3.22)\n",
            "Requirement already satisfied: python-dateutil>=2.7.3 in /usr/local/lib/python3.6/dist-packages (from pandas->pandasql) (2.8.1)\n",
            "Requirement already satisfied: pytz>=2017.2 in /usr/local/lib/python3.6/dist-packages (from pandas->pandasql) (2018.9)\n",
            "Requirement already satisfied: six>=1.5 in /usr/local/lib/python3.6/dist-packages (from python-dateutil>=2.7.3->pandas->pandasql) (1.15.0)\n",
            "Building wheels for collected packages: pandasql\n",
            "  Building wheel for pandasql (setup.py) ... \u001b[?25l\u001b[?25hdone\n",
            "  Created wheel for pandasql: filename=pandasql-0.7.3-cp36-none-any.whl size=26820 sha256=ad866425cd4327576ad17dc8b6ac2eadc8cb867c28ceb53b068b95fc2e7cc59a\n",
            "  Stored in directory: /root/.cache/pip/wheels/53/6c/18/b87a2e5fa8a82e9c026311de56210b8d1c01846e18a9607fc9\n",
            "Successfully built pandasql\n",
            "Installing collected packages: pandasql\n",
            "Successfully installed pandasql-0.7.3\n"
          ],
          "name": "stdout"
        }
      ]
    },
    {
      "cell_type": "code",
      "metadata": {
        "id": "shENF8xU1l45"
      },
      "source": [
        "import pandas as pd\r\n",
        "import numpy as np\r\n",
        "import pandasql as ps\r\n",
        "import matplotlib.pyplot as plt\r\n",
        "import plotnine as p9\r\n",
        "import datetime\r\n",
        "from sklearn import linear_model"
      ],
      "execution_count": null,
      "outputs": []
    },
    {
      "cell_type": "code",
      "metadata": {
        "id": "NGaCmyjayy3m"
      },
      "source": [
        "hechos=pd.read_csv('hechos_estrella.csv')\r\n",
        "cliente=pd.read_csv('cliente.csv')\r\n",
        "producto=pd.read_csv('producto.csv')\r\n",
        "tiempo=pd.read_csv('tiempo.csv')"
      ],
      "execution_count": null,
      "outputs": []
    },
    {
      "cell_type": "markdown",
      "metadata": {
        "id": "IqgmYA7RSNNJ"
      },
      "source": [
        "En primera instancia vamos a descartar a las personas que ya tienen hipoteca. Pues dado que ya tienen una deuda buscaremos que la cubran para poder ofrecerles otro prestamo hipotecario"
      ]
    },
    {
      "cell_type": "code",
      "metadata": {
        "id": "E8AOGmcVzfG4"
      },
      "source": [
        "q1=\"\"\"SELECT cliente.cliente_id, cliente.nombre_cliente, cliente.ingreso,\r\n",
        "producto.tipo_producto_desc,producto.producto_id,producto.producto_desc,\r\n",
        "tiempo.fecha, hechos.saldo_$ as saldo,producto.numero_cuenta\r\n",
        "FROM hechos\r\n",
        "JOIN cliente ON cliente.llave_cliente == hechos.llave_cliente\r\n",
        "JOIN producto ON producto.llave_producto == hechos.llave_producto\r\n",
        "JOIN tiempo ON tiempo.llave_tiempo == hechos.llave_tiempo\r\n",
        "WHERE producto.tipo_producto_desc != \"Mortgage\"\r\n",
        "\"\"\"\r\n",
        "data = ps.sqldf(q1,locals())"
      ],
      "execution_count": null,
      "outputs": []
    },
    {
      "cell_type": "code",
      "metadata": {
        "colab": {
          "base_uri": "https://localhost:8080/",
          "height": 402
        },
        "id": "JcYmuBz2y-z9",
        "outputId": "b9c3eea7-c6a2-4578-8e18-7f9514d72d49"
      },
      "source": [
        "#Cambiamos el tipo de dato a fecha para operar con esta columna.\r\n",
        "data['fecha'] = pd.to_datetime(data['fecha'], format='%d/%m/%Y')\r\n",
        "data.sort_values(by='fecha')\r\n",
        "#data.index = data['fecha']\r\n"
      ],
      "execution_count": null,
      "outputs": [
        {
          "output_type": "execute_result",
          "data": {
            "text/html": [
              "<div>\n",
              "<style scoped>\n",
              "    .dataframe tbody tr th:only-of-type {\n",
              "        vertical-align: middle;\n",
              "    }\n",
              "\n",
              "    .dataframe tbody tr th {\n",
              "        vertical-align: top;\n",
              "    }\n",
              "\n",
              "    .dataframe thead th {\n",
              "        text-align: right;\n",
              "    }\n",
              "</style>\n",
              "<table border=\"1\" class=\"dataframe\">\n",
              "  <thead>\n",
              "    <tr style=\"text-align: right;\">\n",
              "      <th></th>\n",
              "      <th>cliente_id</th>\n",
              "      <th>nombre_cliente</th>\n",
              "      <th>ingreso</th>\n",
              "      <th>tipo_producto_desc</th>\n",
              "      <th>producto_id</th>\n",
              "      <th>producto_desc</th>\n",
              "      <th>fecha</th>\n",
              "      <th>saldo</th>\n",
              "      <th>numero_cuenta</th>\n",
              "    </tr>\n",
              "  </thead>\n",
              "  <tbody>\n",
              "    <tr>\n",
              "      <th>0</th>\n",
              "      <td>3001</td>\n",
              "      <td>Anderson</td>\n",
              "      <td>83770</td>\n",
              "      <td>Checking</td>\n",
              "      <td>401</td>\n",
              "      <td>Regular Checking</td>\n",
              "      <td>2018-01-31</td>\n",
              "      <td>15000</td>\n",
              "      <td>57750</td>\n",
              "    </tr>\n",
              "    <tr>\n",
              "      <th>72</th>\n",
              "      <td>3540</td>\n",
              "      <td>Rivera</td>\n",
              "      <td>79698</td>\n",
              "      <td>Checking</td>\n",
              "      <td>405</td>\n",
              "      <td>Checking for Children</td>\n",
              "      <td>2018-01-31</td>\n",
              "      <td>500</td>\n",
              "      <td>41862</td>\n",
              "    </tr>\n",
              "    <tr>\n",
              "      <th>120</th>\n",
              "      <td>3538</td>\n",
              "      <td>Redfern</td>\n",
              "      <td>35891</td>\n",
              "      <td>Personal Loan</td>\n",
              "      <td>416</td>\n",
              "      <td>90 Day Secured Loan</td>\n",
              "      <td>2018-01-31</td>\n",
              "      <td>10000</td>\n",
              "      <td>17719</td>\n",
              "    </tr>\n",
              "    <tr>\n",
              "      <th>123</th>\n",
              "      <td>3540</td>\n",
              "      <td>Rivera</td>\n",
              "      <td>79698</td>\n",
              "      <td>Personal Loan</td>\n",
              "      <td>417</td>\n",
              "      <td>Line of Credit</td>\n",
              "      <td>2018-01-31</td>\n",
              "      <td>100000</td>\n",
              "      <td>43670</td>\n",
              "    </tr>\n",
              "    <tr>\n",
              "      <th>147</th>\n",
              "      <td>3539</td>\n",
              "      <td>Richards</td>\n",
              "      <td>115961</td>\n",
              "      <td>Personal Loan</td>\n",
              "      <td>417</td>\n",
              "      <td>Line of Credit</td>\n",
              "      <td>2018-01-31</td>\n",
              "      <td>125000</td>\n",
              "      <td>51040</td>\n",
              "    </tr>\n",
              "    <tr>\n",
              "      <th>...</th>\n",
              "      <td>...</td>\n",
              "      <td>...</td>\n",
              "      <td>...</td>\n",
              "      <td>...</td>\n",
              "      <td>...</td>\n",
              "      <td>...</td>\n",
              "      <td>...</td>\n",
              "      <td>...</td>\n",
              "      <td>...</td>\n",
              "    </tr>\n",
              "    <tr>\n",
              "      <th>95</th>\n",
              "      <td>3540</td>\n",
              "      <td>Rivera</td>\n",
              "      <td>79698</td>\n",
              "      <td>Checking</td>\n",
              "      <td>405</td>\n",
              "      <td>Checking for Children</td>\n",
              "      <td>2019-12-31</td>\n",
              "      <td>950</td>\n",
              "      <td>41862</td>\n",
              "    </tr>\n",
              "    <tr>\n",
              "      <th>47</th>\n",
              "      <td>3001</td>\n",
              "      <td>Anderson</td>\n",
              "      <td>83770</td>\n",
              "      <td>Checking</td>\n",
              "      <td>402</td>\n",
              "      <td>Checking w. Interest</td>\n",
              "      <td>2019-12-31</td>\n",
              "      <td>23900</td>\n",
              "      <td>94069</td>\n",
              "    </tr>\n",
              "    <tr>\n",
              "      <th>119</th>\n",
              "      <td>3002</td>\n",
              "      <td>Antoni</td>\n",
              "      <td>102996</td>\n",
              "      <td>Saving</td>\n",
              "      <td>406</td>\n",
              "      <td>Regular Saving</td>\n",
              "      <td>2019-12-31</td>\n",
              "      <td>35500</td>\n",
              "      <td>22420</td>\n",
              "    </tr>\n",
              "    <tr>\n",
              "      <th>71</th>\n",
              "      <td>3002</td>\n",
              "      <td>Antoni</td>\n",
              "      <td>102996</td>\n",
              "      <td>Checking</td>\n",
              "      <td>404</td>\n",
              "      <td>On Line Checking</td>\n",
              "      <td>2019-12-31</td>\n",
              "      <td>19500</td>\n",
              "      <td>33966</td>\n",
              "    </tr>\n",
              "    <tr>\n",
              "      <th>170</th>\n",
              "      <td>3539</td>\n",
              "      <td>Richards</td>\n",
              "      <td>115961</td>\n",
              "      <td>Personal Loan</td>\n",
              "      <td>417</td>\n",
              "      <td>Line of Credit</td>\n",
              "      <td>2019-12-31</td>\n",
              "      <td>10000</td>\n",
              "      <td>51040</td>\n",
              "    </tr>\n",
              "  </tbody>\n",
              "</table>\n",
              "<p>171 rows × 9 columns</p>\n",
              "</div>"
            ],
            "text/plain": [
              "     cliente_id nombre_cliente  ingreso  ...      fecha   saldo numero_cuenta\n",
              "0          3001       Anderson    83770  ... 2018-01-31   15000         57750\n",
              "72         3540         Rivera    79698  ... 2018-01-31     500         41862\n",
              "120        3538        Redfern    35891  ... 2018-01-31   10000         17719\n",
              "123        3540         Rivera    79698  ... 2018-01-31  100000         43670\n",
              "147        3539       Richards   115961  ... 2018-01-31  125000         51040\n",
              "..          ...            ...      ...  ...        ...     ...           ...\n",
              "95         3540         Rivera    79698  ... 2019-12-31     950         41862\n",
              "47         3001       Anderson    83770  ... 2019-12-31   23900         94069\n",
              "119        3002         Antoni   102996  ... 2019-12-31   35500         22420\n",
              "71         3002         Antoni   102996  ... 2019-12-31   19500         33966\n",
              "170        3539       Richards   115961  ... 2019-12-31   10000         51040\n",
              "\n",
              "[171 rows x 9 columns]"
            ]
          },
          "metadata": {
            "tags": []
          },
          "execution_count": 152
        }
      ]
    },
    {
      "cell_type": "markdown",
      "metadata": {
        "id": "IlPdeDp6Fd-n"
      },
      "source": [
        "Dado que ya sabemos las personas que tienen prestamos hipotecarios, veremos el comportamiento de los saldos de las personas que aun son candidatas para ofrecerles un prestamo"
      ]
    },
    {
      "cell_type": "code",
      "metadata": {
        "id": "2RYnZ1WWTGrI"
      },
      "source": [
        "q2=\"\"\"SELECT cliente.cliente_id, cliente.nombre_cliente, cliente.ingreso,\r\n",
        "producto.tipo_producto_desc,producto.producto_id,producto.producto_desc,\r\n",
        "tiempo.fecha, hechos.saldo_$ as saldo,producto.numero_cuenta\r\n",
        "FROM hechos\r\n",
        "JOIN cliente ON cliente.llave_cliente == hechos.llave_cliente\r\n",
        "JOIN producto ON producto.llave_producto == hechos.llave_producto\r\n",
        "JOIN tiempo ON tiempo.llave_tiempo == hechos.llave_tiempo\r\n",
        "WHERE nombre_cliente != \"Redfern\" AND nombre_cliente != \"Richards\" \r\n",
        "\"\"\"\r\n",
        "datash = ps.sqldf(q2,locals())\r\n",
        "datash"
      ],
      "execution_count": null,
      "outputs": []
    },
    {
      "cell_type": "code",
      "metadata": {
        "id": "WqEJsnYZTlWu"
      },
      "source": [
        "#Cambiamos el tipo de dato a fecha para operar con esta columna.\r\n",
        "datash['fecha'] = pd.to_datetime(datash['fecha'], format='%d/%m/%Y')\r\n",
        "datash.sort_values(by='fecha')\r\n",
        "datash.index = datash['fecha']\r\n",
        "#datash.resample(\"M\").sum()"
      ],
      "execution_count": null,
      "outputs": []
    },
    {
      "cell_type": "markdown",
      "metadata": {
        "id": "vAEcW-odFsxj"
      },
      "source": [
        "La grafica muestra que Anderson, Antoni y Rivera son las personas que son factibles al prestamo, pero podemos ver mucha variación en sus saldos (los picos) debido a que esos saldos pueden venir de distintas cuentas. Por lo que veremos con mas detalle como se comportan para los presuntos candidatos."
      ]
    },
    {
      "cell_type": "code",
      "metadata": {
        "colab": {
          "base_uri": "https://localhost:8080/",
          "height": 498
        },
        "id": "NJeTK3fRzCJf",
        "outputId": "21d9a572-3614-4aaf-8e7f-b9892d56e319"
      },
      "source": [
        "(p9.ggplot(data= datash,\r\n",
        "           mapping=p9.aes(x='fecha',\r\n",
        "                          y='saldo',\r\n",
        "                          color='nombre_cliente'))\r\n",
        "    + p9.geom_line()\r\n",
        ")"
      ],
      "execution_count": null,
      "outputs": [
        {
          "output_type": "stream",
          "text": [
            "/usr/local/lib/python3.6/dist-packages/plotnine/utils.py:1246: FutureWarning: is_categorical is deprecated and will be removed in a future version.  Use is_categorical_dtype instead\n",
            "  if pdtypes.is_categorical(arr):\n"
          ],
          "name": "stderr"
        },
        {
          "output_type": "display_data",
          "data": {
            "image/png": "[encoded data removed]",
            "text/plain": [
              "<Figure size 640x480 with 1 Axes>"
            ]
          },
          "metadata": {
            "tags": []
          }
        },
        {
          "output_type": "execute_result",
          "data": {
            "text/plain": [
              "<ggplot: (8782355548336)>"
            ]
          },
          "metadata": {
            "tags": []
          },
          "execution_count": 128
        }
      ]
    },
    {
      "cell_type": "markdown",
      "metadata": {
        "id": "VKre3RJbGGTV"
      },
      "source": [
        "Veamos por candidato"
      ]
    },
    {
      "cell_type": "code",
      "metadata": {
        "id": "bSMrMKfcsH_X"
      },
      "source": [
        "q3=\"\"\"SELECT tiempo.fecha, hechos.saldo_$ as saldo, producto.producto_desc\r\n",
        "FROM hechos\r\n",
        "JOIN cliente ON cliente.llave_cliente == hechos.llave_cliente\r\n",
        "JOIN producto ON producto.llave_producto == hechos.llave_producto\r\n",
        "JOIN tiempo ON tiempo.llave_tiempo == hechos.llave_tiempo\r\n",
        "WHERE producto.tipo_producto_desc != \"Mortgage\" AND cliente.nombre_cliente ==\"Rivera\"\r\n",
        "\"\"\"\r\n",
        "\r\n",
        "q4=\"\"\"SELECT tiempo.fecha, hechos.saldo_$ as saldo, producto.producto_desc\r\n",
        "FROM hechos\r\n",
        "JOIN cliente ON cliente.llave_cliente == hechos.llave_cliente\r\n",
        "JOIN producto ON producto.llave_producto == hechos.llave_producto\r\n",
        "JOIN tiempo ON tiempo.llave_tiempo == hechos.llave_tiempo\r\n",
        "WHERE producto.tipo_producto_desc != \"Mortgage\" AND cliente.nombre_cliente ==\"Antoni\"\r\n",
        "\"\"\"\r\n",
        "\r\n",
        "q5=\"\"\"SELECT tiempo.fecha, hechos.saldo_$ as saldo, producto.producto_desc\r\n",
        "FROM hechos\r\n",
        "JOIN cliente ON cliente.llave_cliente == hechos.llave_cliente\r\n",
        "JOIN producto ON producto.llave_producto == hechos.llave_producto\r\n",
        "JOIN tiempo ON tiempo.llave_tiempo == hechos.llave_tiempo\r\n",
        "WHERE producto.tipo_producto_desc != \"Mortgage\" AND cliente.nombre_cliente ==\"Anderson\"\r\n",
        "\"\"\"\r\n",
        "Rivera = ps.sqldf(q3,locals())\r\n",
        "Antoni = ps.sqldf(q4,locals())\r\n",
        "Anderson = ps.sqldf(q5,locals())"
      ],
      "execution_count": null,
      "outputs": []
    },
    {
      "cell_type": "code",
      "metadata": {
        "id": "WbsZ84udsXxA"
      },
      "source": [
        "#Cambiamos el tipo de dato a fecha para operar con esta columna.\r\n",
        "Rivera['fecha'] = pd.to_datetime(Rivera['fecha'], format='%d/%m/%Y')\r\n",
        "Rivera.sort_values(by='fecha')\r\n",
        "Rivera.index = Rivera['fecha']\r\n",
        "#Antoni.resample(\"M\").sum()\r\n",
        "\r\n",
        "Antoni['fecha'] = pd.to_datetime(Antoni['fecha'], format='%d/%m/%Y')\r\n",
        "Antoni.sort_values(by='fecha')\r\n",
        "Antoni.index = Antoni['fecha']\r\n",
        "#Antoni.resample(\"M\").sum()\r\n",
        "\r\n",
        "Anderson['fecha'] = pd.to_datetime(Anderson['fecha'], format='%d/%m/%Y')\r\n",
        "Anderson.sort_values(by='fecha')\r\n",
        "Anderson.index = Anderson['fecha']\r\n",
        "#Antoni.resample(\"M\").sum()"
      ],
      "execution_count": null,
      "outputs": []
    },
    {
      "cell_type": "markdown",
      "metadata": {
        "id": "tMkcIa_KGJsv"
      },
      "source": [
        "Rivera tiene dos cuentas, la de cheking of children y Line of credit. El saldo en su linea de credito ha ido disminuyendo considerablemente por lo que podriamos pensar que ha estado consumiento (utilizando su linea de credito) y tiene esas deudas con el banco, por lo que posiblemente no seria en candidato ideal."
      ]
    },
    {
      "cell_type": "code",
      "metadata": {
        "colab": {
          "base_uri": "https://localhost:8080/",
          "height": 498
        },
        "id": "-LzM9jzOsisA",
        "outputId": "be475558-ca8d-460f-b4e9-44848cbcefdd"
      },
      "source": [
        "(p9.ggplot(data= Rivera,\r\n",
        "           mapping=p9.aes(x='fecha',\r\n",
        "                          y='saldo',\r\n",
        "                          color='producto_desc'))\r\n",
        "    + p9.geom_line()\r\n",
        ")"
      ],
      "execution_count": null,
      "outputs": [
        {
          "output_type": "stream",
          "text": [
            "/usr/local/lib/python3.6/dist-packages/plotnine/utils.py:1246: FutureWarning: is_categorical is deprecated and will be removed in a future version.  Use is_categorical_dtype instead\n",
            "  if pdtypes.is_categorical(arr):\n"
          ],
          "name": "stderr"
        },
        {
          "output_type": "display_data",
          "data": {
            "image/png": "[encoded data removed]",
            "text/plain": [
              "<Figure size 640x480 with 1 Axes>"
            ]
          },
          "metadata": {
            "tags": []
          }
        },
        {
          "output_type": "execute_result",
          "data": {
            "text/plain": [
              "<ggplot: (8782355453921)>"
            ]
          },
          "metadata": {
            "tags": []
          },
          "execution_count": 129
        }
      ]
    },
    {
      "cell_type": "markdown",
      "metadata": {
        "id": "gOV9dMt-GjJk"
      },
      "source": [
        "Anderson también tiene dos cuenras, la de checking interest y regular checking, en ambas cuentas podemos ver que tiene una tendencia creciente. Aparte que en este caso Anderson tiene cuentas donde el dinero no es credito sino propio, por lo tanto Anderson es un buen candidato para ofrecerle el prestamo hipotecario."
      ]
    },
    {
      "cell_type": "code",
      "metadata": {
        "colab": {
          "base_uri": "https://localhost:8080/",
          "height": 498
        },
        "id": "cbHNI0puyWDN",
        "outputId": "79b5ede8-6dd1-428a-d2c6-b3bb429b8705"
      },
      "source": [
        "(p9.ggplot(data= Anderson,\r\n",
        "           mapping=p9.aes(x='fecha',\r\n",
        "                          y='saldo',\r\n",
        "                          color='producto_desc'))\r\n",
        "    + p9.geom_line()\r\n",
        ")"
      ],
      "execution_count": null,
      "outputs": [
        {
          "output_type": "stream",
          "text": [
            "/usr/local/lib/python3.6/dist-packages/plotnine/utils.py:1246: FutureWarning: is_categorical is deprecated and will be removed in a future version.  Use is_categorical_dtype instead\n",
            "  if pdtypes.is_categorical(arr):\n"
          ],
          "name": "stderr"
        },
        {
          "output_type": "display_data",
          "data": {
            "image/png": "[encoded data removed]",
            "text/plain": [
              "<Figure size 640x480 with 1 Axes>"
            ]
          },
          "metadata": {
            "tags": []
          }
        },
        {
          "output_type": "execute_result",
          "data": {
            "text/plain": [
              "<ggplot: (-9223363254499231772)>"
            ]
          },
          "metadata": {
            "tags": []
          },
          "execution_count": 133
        }
      ]
    },
    {
      "cell_type": "markdown",
      "metadata": {
        "id": "j1ipzIYMHAoW"
      },
      "source": [
        "An igual que Andeson, Antoni tiene dos cuentas una de On Line cheking y otra de Regular checking, de aquí podemos observar que la tendencia es creciente. Pero sobre todo la cuenta de Regular Saving tiende a crecer muy rapidamente por lo que tambien es un prospecto con potenciales recursos para cumplir con su deuda."
      ]
    },
    {
      "cell_type": "code",
      "metadata": {
        "colab": {
          "base_uri": "https://localhost:8080/",
          "height": 498
        },
        "id": "miexoO1pyWOz",
        "outputId": "16e82c54-11a0-4fa4-ded7-35fb3d1d9a20"
      },
      "source": [
        "(p9.ggplot(data= Antoni,\r\n",
        "           mapping=p9.aes(x='fecha',\r\n",
        "                          y='saldo',\r\n",
        "                          color='producto_desc'))\r\n",
        "    + p9.geom_line()\r\n",
        ")"
      ],
      "execution_count": null,
      "outputs": [
        {
          "output_type": "stream",
          "text": [
            "/usr/local/lib/python3.6/dist-packages/plotnine/utils.py:1246: FutureWarning: is_categorical is deprecated and will be removed in a future version.  Use is_categorical_dtype instead\n",
            "  if pdtypes.is_categorical(arr):\n"
          ],
          "name": "stderr"
        },
        {
          "output_type": "display_data",
          "data": {
            "image/png": "[encoded data removed]",
            "text/plain": [
              "<Figure size 640x480 with 1 Axes>"
            ]
          },
          "metadata": {
            "tags": []
          }
        },
        {
          "output_type": "execute_result",
          "data": {
            "text/plain": [
              "<ggplot: (8782355387603)>"
            ]
          },
          "metadata": {
            "tags": []
          },
          "execution_count": 134
        }
      ]
    },
    {
      "cell_type": "markdown",
      "metadata": {
        "id": "2JcMu2rW1vdt"
      },
      "source": [
        "#2. \r\n",
        "Se desea saber cuáles son las características de los clientes que por lo regular no terminan de pagar su préstamo hipotecario. ¿Qué puede concluir, recomendar o decisión tomar a partir de esta información?"
      ]
    },
    {
      "cell_type": "code",
      "metadata": {
        "id": "mJZuhH4v19Cw"
      },
      "source": [
        "q5=\"\"\"SELECT cliente.cliente_id, cliente.nombre_cliente, cliente.ingreso,\r\n",
        "producto.tipo_producto_desc,producto.producto_id,producto.producto_desc,\r\n",
        "tiempo.fecha, hechos.saldo_$ as saldo,producto.numero_cuenta\r\n",
        "FROM hechos\r\n",
        "JOIN cliente ON cliente.llave_cliente == hechos.llave_cliente\r\n",
        "JOIN producto ON producto.llave_producto == hechos.llave_producto\r\n",
        "JOIN tiempo ON tiempo.llave_tiempo == hechos.llave_tiempo\r\n",
        "WHERE producto.tipo_producto_desc == \"Mortgage\"\r\n",
        "\"\"\"\r\n",
        "hipoteca = ps.sqldf(q5,locals())\r\n",
        "hipoteca"
      ],
      "execution_count": null,
      "outputs": []
    },
    {
      "cell_type": "markdown",
      "metadata": {
        "id": "snhOxlhqHky4"
      },
      "source": [
        "Tomando solo los clientes que cuentan con un prestamo hipotecario veamos que ambos han pagado con distinta velocidad y aún tienen la deuda."
      ]
    },
    {
      "cell_type": "code",
      "metadata": {
        "id": "lC3hghyrC4Gb"
      },
      "source": [
        "hipoteca['fecha'] = pd.to_datetime(hipoteca['fecha'], format='%d/%m/%Y')\r\n",
        "hipoteca.sort_values(by='fecha')\r\n",
        "hipoteca.index = hipoteca['fecha']"
      ],
      "execution_count": null,
      "outputs": []
    },
    {
      "cell_type": "markdown",
      "metadata": {
        "id": "fje-1FV_Hwkc"
      },
      "source": [
        "Redfern y Richards tienen su prestamo vigente con la diferencia y Richard ha pagado montos mayores en los ultimos meses pero ambos a;un deben al banco. Cabe notar que el prestamo de Richard fue mucho mayor al de Redfern"
      ]
    },
    {
      "cell_type": "code",
      "metadata": {
        "colab": {
          "base_uri": "https://localhost:8080/",
          "height": 498
        },
        "id": "4JPmWeyNCpTi",
        "outputId": "c6d0830d-fd04-458c-945b-5b6f405dd320"
      },
      "source": [
        "(p9.ggplot(data= hipoteca,\r\n",
        "           mapping=p9.aes(x='fecha',\r\n",
        "                          y='saldo',\r\n",
        "                          color='nombre_cliente'))\r\n",
        "    + p9.geom_line()\r\n",
        ")"
      ],
      "execution_count": null,
      "outputs": [
        {
          "output_type": "stream",
          "text": [
            "/usr/local/lib/python3.6/dist-packages/plotnine/utils.py:1246: FutureWarning: is_categorical is deprecated and will be removed in a future version.  Use is_categorical_dtype instead\n",
            "  if pdtypes.is_categorical(arr):\n"
          ],
          "name": "stderr"
        },
        {
          "output_type": "display_data",
          "data": {
            "image/png": "[encoded data removed]",
            "text/plain": [
              "<Figure size 640x480 with 1 Axes>"
            ]
          },
          "metadata": {
            "tags": []
          }
        },
        {
          "output_type": "execute_result",
          "data": {
            "text/plain": [
              "<ggplot: (-9223363254499459086)>"
            ]
          },
          "metadata": {
            "tags": []
          },
          "execution_count": 141
        }
      ]
    },
    {
      "cell_type": "markdown",
      "metadata": {
        "id": "J4-ILzqCIHaF"
      },
      "source": [
        "Entre las pocas características que se pueden observar de los clientes con deuda hipotecaria es que tienen edad de 60 + por lo que se puede recomentar al banco que procure otorgar estos prestamos a personas un poco más jovenes con mayor solvencia. Podria ser con un monto de ingresos elevado por ejemplo."
      ]
    },
    {
      "cell_type": "code",
      "metadata": {
        "colab": {
          "base_uri": "https://localhost:8080/",
          "height": 106
        },
        "id": "w6N4W9ThDlE6",
        "outputId": "0d21463b-2df6-4e5e-adf7-6445138696cd"
      },
      "source": [
        "q6=\"\"\"SELECT cliente.nombre_cliente,\r\n",
        "cliente.edad, \r\n",
        "cliente.ingreso,\r\n",
        "cliente.estadocivil\r\n",
        "FROM hechos\r\n",
        "JOIN cliente ON cliente.llave_cliente == hechos.llave_cliente\r\n",
        "JOIN producto ON producto.llave_producto == hechos.llave_producto\r\n",
        "JOIN tiempo ON tiempo.llave_tiempo == hechos.llave_tiempo\r\n",
        "WHERE producto.tipo_producto_desc == \"Mortgage\"\r\n",
        "GROUP BY  cliente.nombre_cliente\r\n",
        "\"\"\"\r\n",
        "caracteristicas = ps.sqldf(q6,locals())\r\n",
        "caracteristicas"
      ],
      "execution_count": null,
      "outputs": [
        {
          "output_type": "execute_result",
          "data": {
            "text/html": [
              "<div>\n",
              "<style scoped>\n",
              "    .dataframe tbody tr th:only-of-type {\n",
              "        vertical-align: middle;\n",
              "    }\n",
              "\n",
              "    .dataframe tbody tr th {\n",
              "        vertical-align: top;\n",
              "    }\n",
              "\n",
              "    .dataframe thead th {\n",
              "        text-align: right;\n",
              "    }\n",
              "</style>\n",
              "<table border=\"1\" class=\"dataframe\">\n",
              "  <thead>\n",
              "    <tr style=\"text-align: right;\">\n",
              "      <th></th>\n",
              "      <th>nombre_cliente</th>\n",
              "      <th>edad</th>\n",
              "      <th>ingreso</th>\n",
              "      <th>estadocivil</th>\n",
              "    </tr>\n",
              "  </thead>\n",
              "  <tbody>\n",
              "    <tr>\n",
              "      <th>0</th>\n",
              "      <td>Redfern</td>\n",
              "      <td>63</td>\n",
              "      <td>35891</td>\n",
              "      <td>Single</td>\n",
              "    </tr>\n",
              "    <tr>\n",
              "      <th>1</th>\n",
              "      <td>Richards</td>\n",
              "      <td>68</td>\n",
              "      <td>115961</td>\n",
              "      <td>Married</td>\n",
              "    </tr>\n",
              "  </tbody>\n",
              "</table>\n",
              "</div>"
            ],
            "text/plain": [
              "  nombre_cliente  edad  ingreso estadocivil\n",
              "0        Redfern    63    35891      Single\n",
              "1       Richards    68   115961     Married"
            ]
          },
          "metadata": {
            "tags": []
          },
          "execution_count": 147
        }
      ]
    },
    {
      "cell_type": "markdown",
      "metadata": {
        "id": "55CKhgIcIo8S"
      },
      "source": [
        "#3\r\n",
        "Se desea saber con base a la edad del cliente, el tipo de prestamo y su desempeño de pagos, la fecha aproximada de termino de pago de dicho prestamo. \r\n"
      ]
    },
    {
      "cell_type": "code",
      "metadata": {
        "id": "uJitSmrCIzEe"
      },
      "source": [
        "#Cargar los datos \r\n",
        "facts = pd.read_csv('/content/hechos_estrella.csv')\r\n",
        "clients = pd.read_csv('/content/cliente.csv')\r\n",
        "product = pd.read_csv('/content/producto.csv')\r\n",
        "time = pd.read_csv('/content/tiempo.csv')"
      ],
      "execution_count": null,
      "outputs": []
    },
    {
      "cell_type": "markdown",
      "metadata": {
        "id": "3PGnHGkHoY-I"
      },
      "source": [
        "Para esto, primero generamos una tabla donde se tengan las fechas de nacimiento de los clientes, sus prestamos y sus saldos."
      ]
    },
    {
      "cell_type": "code",
      "metadata": {
        "id": "oVQjUE56IGLC",
        "colab": {
          "base_uri": "https://localhost:8080/",
          "height": 1000
        },
        "outputId": "7535d253-3c33-46ad-ff7d-05e5185a60a9"
      },
      "source": [
        "#Guardamos en una tabla el dataframe correspondiente a las fechas de nacimiento de los clientes, sus prestamos y sus saldos. \r\n",
        "q1=\"\"\"SELECT \r\n",
        "nombre_cliente, edad, producto_desc,saldo_$,fecha\r\n",
        "FROM\r\n",
        "clients, facts, product, time\r\n",
        "WHERE\r\n",
        "facts.llave_cliente = clients.llave_cliente \r\n",
        "AND\r\n",
        "tipo_producto_desc = 'Mortgage'\r\n",
        "AND\r\n",
        "facts.llave_producto = product.llave_producto\r\n",
        "AND\r\n",
        "facts.llave_tiempo = time.llave_tiempo;\"\"\"\r\n",
        "data = ps.sqldf(q1,locals())\r\n",
        "data"
      ],
      "execution_count": null,
      "outputs": [
        {
          "output_type": "execute_result",
          "data": {
            "text/html": [
              "<div>\n",
              "<style scoped>\n",
              "    .dataframe tbody tr th:only-of-type {\n",
              "        vertical-align: middle;\n",
              "    }\n",
              "\n",
              "    .dataframe tbody tr th {\n",
              "        vertical-align: top;\n",
              "    }\n",
              "\n",
              "    .dataframe thead th {\n",
              "        text-align: right;\n",
              "    }\n",
              "</style>\n",
              "<table border=\"1\" class=\"dataframe\">\n",
              "  <thead>\n",
              "    <tr style=\"text-align: right;\">\n",
              "      <th></th>\n",
              "      <th>nombre_cliente</th>\n",
              "      <th>edad</th>\n",
              "      <th>producto_desc</th>\n",
              "      <th>saldo_$</th>\n",
              "      <th>fecha</th>\n",
              "    </tr>\n",
              "  </thead>\n",
              "  <tbody>\n",
              "    <tr>\n",
              "      <th>0</th>\n",
              "      <td>Richards</td>\n",
              "      <td>68</td>\n",
              "      <td>15 Year Mortgage</td>\n",
              "      <td>3500000</td>\n",
              "      <td>31/01/2018</td>\n",
              "    </tr>\n",
              "    <tr>\n",
              "      <th>1</th>\n",
              "      <td>Richards</td>\n",
              "      <td>68</td>\n",
              "      <td>15 Year Mortgage</td>\n",
              "      <td>3495000</td>\n",
              "      <td>28/02/2018</td>\n",
              "    </tr>\n",
              "    <tr>\n",
              "      <th>2</th>\n",
              "      <td>Richards</td>\n",
              "      <td>68</td>\n",
              "      <td>15 Year Mortgage</td>\n",
              "      <td>3490000</td>\n",
              "      <td>31/03/2018</td>\n",
              "    </tr>\n",
              "    <tr>\n",
              "      <th>3</th>\n",
              "      <td>Richards</td>\n",
              "      <td>68</td>\n",
              "      <td>15 Year Mortgage</td>\n",
              "      <td>3485000</td>\n",
              "      <td>30/04/2018</td>\n",
              "    </tr>\n",
              "    <tr>\n",
              "      <th>4</th>\n",
              "      <td>Richards</td>\n",
              "      <td>68</td>\n",
              "      <td>15 Year Mortgage</td>\n",
              "      <td>3480000</td>\n",
              "      <td>31/05/2018</td>\n",
              "    </tr>\n",
              "    <tr>\n",
              "      <th>5</th>\n",
              "      <td>Richards</td>\n",
              "      <td>68</td>\n",
              "      <td>15 Year Mortgage</td>\n",
              "      <td>3475000</td>\n",
              "      <td>30/06/2018</td>\n",
              "    </tr>\n",
              "    <tr>\n",
              "      <th>6</th>\n",
              "      <td>Richards</td>\n",
              "      <td>68</td>\n",
              "      <td>15 Year Mortgage</td>\n",
              "      <td>3465000</td>\n",
              "      <td>31/07/2018</td>\n",
              "    </tr>\n",
              "    <tr>\n",
              "      <th>7</th>\n",
              "      <td>Richards</td>\n",
              "      <td>68</td>\n",
              "      <td>15 Year Mortgage</td>\n",
              "      <td>3455000</td>\n",
              "      <td>31/08/2018</td>\n",
              "    </tr>\n",
              "    <tr>\n",
              "      <th>8</th>\n",
              "      <td>Richards</td>\n",
              "      <td>68</td>\n",
              "      <td>15 Year Mortgage</td>\n",
              "      <td>3445000</td>\n",
              "      <td>30/09/2018</td>\n",
              "    </tr>\n",
              "    <tr>\n",
              "      <th>9</th>\n",
              "      <td>Richards</td>\n",
              "      <td>68</td>\n",
              "      <td>15 Year Mortgage</td>\n",
              "      <td>3435000</td>\n",
              "      <td>31/10/2018</td>\n",
              "    </tr>\n",
              "    <tr>\n",
              "      <th>10</th>\n",
              "      <td>Richards</td>\n",
              "      <td>68</td>\n",
              "      <td>15 Year Mortgage</td>\n",
              "      <td>3425000</td>\n",
              "      <td>30/11/2018</td>\n",
              "    </tr>\n",
              "    <tr>\n",
              "      <th>11</th>\n",
              "      <td>Richards</td>\n",
              "      <td>68</td>\n",
              "      <td>15 Year Mortgage</td>\n",
              "      <td>3415000</td>\n",
              "      <td>31/12/2018</td>\n",
              "    </tr>\n",
              "    <tr>\n",
              "      <th>12</th>\n",
              "      <td>Richards</td>\n",
              "      <td>68</td>\n",
              "      <td>15 Year Mortgage</td>\n",
              "      <td>3415000</td>\n",
              "      <td>31/01/2019</td>\n",
              "    </tr>\n",
              "    <tr>\n",
              "      <th>13</th>\n",
              "      <td>Richards</td>\n",
              "      <td>68</td>\n",
              "      <td>15 Year Mortgage</td>\n",
              "      <td>3414500</td>\n",
              "      <td>28/02/2019</td>\n",
              "    </tr>\n",
              "    <tr>\n",
              "      <th>14</th>\n",
              "      <td>Richards</td>\n",
              "      <td>68</td>\n",
              "      <td>15 Year Mortgage</td>\n",
              "      <td>3410000</td>\n",
              "      <td>31/03/2019</td>\n",
              "    </tr>\n",
              "    <tr>\n",
              "      <th>15</th>\n",
              "      <td>Richards</td>\n",
              "      <td>68</td>\n",
              "      <td>15 Year Mortgage</td>\n",
              "      <td>3400000</td>\n",
              "      <td>30/04/2019</td>\n",
              "    </tr>\n",
              "    <tr>\n",
              "      <th>16</th>\n",
              "      <td>Richards</td>\n",
              "      <td>68</td>\n",
              "      <td>15 Year Mortgage</td>\n",
              "      <td>3390000</td>\n",
              "      <td>31/05/2019</td>\n",
              "    </tr>\n",
              "    <tr>\n",
              "      <th>17</th>\n",
              "      <td>Richards</td>\n",
              "      <td>68</td>\n",
              "      <td>15 Year Mortgage</td>\n",
              "      <td>3385000</td>\n",
              "      <td>30/06/2019</td>\n",
              "    </tr>\n",
              "    <tr>\n",
              "      <th>18</th>\n",
              "      <td>Richards</td>\n",
              "      <td>68</td>\n",
              "      <td>15 Year Mortgage</td>\n",
              "      <td>3200000</td>\n",
              "      <td>31/07/2019</td>\n",
              "    </tr>\n",
              "    <tr>\n",
              "      <th>19</th>\n",
              "      <td>Richards</td>\n",
              "      <td>68</td>\n",
              "      <td>15 Year Mortgage</td>\n",
              "      <td>3150000</td>\n",
              "      <td>31/08/2019</td>\n",
              "    </tr>\n",
              "    <tr>\n",
              "      <th>20</th>\n",
              "      <td>Richards</td>\n",
              "      <td>68</td>\n",
              "      <td>15 Year Mortgage</td>\n",
              "      <td>3100000</td>\n",
              "      <td>30/09/2019</td>\n",
              "    </tr>\n",
              "    <tr>\n",
              "      <th>21</th>\n",
              "      <td>Richards</td>\n",
              "      <td>68</td>\n",
              "      <td>15 Year Mortgage</td>\n",
              "      <td>3000000</td>\n",
              "      <td>31/10/2019</td>\n",
              "    </tr>\n",
              "    <tr>\n",
              "      <th>22</th>\n",
              "      <td>Richards</td>\n",
              "      <td>68</td>\n",
              "      <td>15 Year Mortgage</td>\n",
              "      <td>3000000</td>\n",
              "      <td>30/11/2019</td>\n",
              "    </tr>\n",
              "    <tr>\n",
              "      <th>23</th>\n",
              "      <td>Richards</td>\n",
              "      <td>68</td>\n",
              "      <td>15 Year Mortgage</td>\n",
              "      <td>2900000</td>\n",
              "      <td>31/12/2019</td>\n",
              "    </tr>\n",
              "    <tr>\n",
              "      <th>24</th>\n",
              "      <td>Redfern</td>\n",
              "      <td>63</td>\n",
              "      <td>Second Home Mortgage</td>\n",
              "      <td>125000</td>\n",
              "      <td>31/01/2018</td>\n",
              "    </tr>\n",
              "    <tr>\n",
              "      <th>25</th>\n",
              "      <td>Redfern</td>\n",
              "      <td>63</td>\n",
              "      <td>Second Home Mortgage</td>\n",
              "      <td>120000</td>\n",
              "      <td>28/02/2018</td>\n",
              "    </tr>\n",
              "    <tr>\n",
              "      <th>26</th>\n",
              "      <td>Redfern</td>\n",
              "      <td>63</td>\n",
              "      <td>Second Home Mortgage</td>\n",
              "      <td>115000</td>\n",
              "      <td>31/03/2018</td>\n",
              "    </tr>\n",
              "    <tr>\n",
              "      <th>27</th>\n",
              "      <td>Redfern</td>\n",
              "      <td>63</td>\n",
              "      <td>Second Home Mortgage</td>\n",
              "      <td>110000</td>\n",
              "      <td>30/04/2018</td>\n",
              "    </tr>\n",
              "    <tr>\n",
              "      <th>28</th>\n",
              "      <td>Redfern</td>\n",
              "      <td>63</td>\n",
              "      <td>Second Home Mortgage</td>\n",
              "      <td>105000</td>\n",
              "      <td>31/05/2018</td>\n",
              "    </tr>\n",
              "    <tr>\n",
              "      <th>29</th>\n",
              "      <td>Redfern</td>\n",
              "      <td>63</td>\n",
              "      <td>Second Home Mortgage</td>\n",
              "      <td>100000</td>\n",
              "      <td>30/06/2018</td>\n",
              "    </tr>\n",
              "    <tr>\n",
              "      <th>30</th>\n",
              "      <td>Redfern</td>\n",
              "      <td>63</td>\n",
              "      <td>Second Home Mortgage</td>\n",
              "      <td>95000</td>\n",
              "      <td>31/07/2018</td>\n",
              "    </tr>\n",
              "    <tr>\n",
              "      <th>31</th>\n",
              "      <td>Redfern</td>\n",
              "      <td>63</td>\n",
              "      <td>Second Home Mortgage</td>\n",
              "      <td>90000</td>\n",
              "      <td>31/08/2018</td>\n",
              "    </tr>\n",
              "    <tr>\n",
              "      <th>32</th>\n",
              "      <td>Redfern</td>\n",
              "      <td>63</td>\n",
              "      <td>Second Home Mortgage</td>\n",
              "      <td>85000</td>\n",
              "      <td>30/09/2018</td>\n",
              "    </tr>\n",
              "    <tr>\n",
              "      <th>33</th>\n",
              "      <td>Redfern</td>\n",
              "      <td>63</td>\n",
              "      <td>Second Home Mortgage</td>\n",
              "      <td>80000</td>\n",
              "      <td>31/10/2018</td>\n",
              "    </tr>\n",
              "    <tr>\n",
              "      <th>34</th>\n",
              "      <td>Redfern</td>\n",
              "      <td>63</td>\n",
              "      <td>Second Home Mortgage</td>\n",
              "      <td>75000</td>\n",
              "      <td>30/11/2018</td>\n",
              "    </tr>\n",
              "    <tr>\n",
              "      <th>35</th>\n",
              "      <td>Redfern</td>\n",
              "      <td>63</td>\n",
              "      <td>Second Home Mortgage</td>\n",
              "      <td>70000</td>\n",
              "      <td>31/12/2018</td>\n",
              "    </tr>\n",
              "    <tr>\n",
              "      <th>36</th>\n",
              "      <td>Redfern</td>\n",
              "      <td>63</td>\n",
              "      <td>Second Home Mortgage</td>\n",
              "      <td>65000</td>\n",
              "      <td>31/01/2019</td>\n",
              "    </tr>\n",
              "    <tr>\n",
              "      <th>37</th>\n",
              "      <td>Redfern</td>\n",
              "      <td>63</td>\n",
              "      <td>Second Home Mortgage</td>\n",
              "      <td>60000</td>\n",
              "      <td>28/02/2019</td>\n",
              "    </tr>\n",
              "    <tr>\n",
              "      <th>38</th>\n",
              "      <td>Redfern</td>\n",
              "      <td>63</td>\n",
              "      <td>Second Home Mortgage</td>\n",
              "      <td>55000</td>\n",
              "      <td>31/03/2019</td>\n",
              "    </tr>\n",
              "    <tr>\n",
              "      <th>39</th>\n",
              "      <td>Redfern</td>\n",
              "      <td>63</td>\n",
              "      <td>Second Home Mortgage</td>\n",
              "      <td>50000</td>\n",
              "      <td>30/04/2019</td>\n",
              "    </tr>\n",
              "    <tr>\n",
              "      <th>40</th>\n",
              "      <td>Redfern</td>\n",
              "      <td>63</td>\n",
              "      <td>Second Home Mortgage</td>\n",
              "      <td>45000</td>\n",
              "      <td>31/05/2019</td>\n",
              "    </tr>\n",
              "    <tr>\n",
              "      <th>41</th>\n",
              "      <td>Redfern</td>\n",
              "      <td>63</td>\n",
              "      <td>Second Home Mortgage</td>\n",
              "      <td>40000</td>\n",
              "      <td>30/06/2019</td>\n",
              "    </tr>\n",
              "    <tr>\n",
              "      <th>42</th>\n",
              "      <td>Redfern</td>\n",
              "      <td>63</td>\n",
              "      <td>Second Home Mortgage</td>\n",
              "      <td>35000</td>\n",
              "      <td>31/07/2019</td>\n",
              "    </tr>\n",
              "    <tr>\n",
              "      <th>43</th>\n",
              "      <td>Redfern</td>\n",
              "      <td>63</td>\n",
              "      <td>Second Home Mortgage</td>\n",
              "      <td>30000</td>\n",
              "      <td>31/08/2019</td>\n",
              "    </tr>\n",
              "    <tr>\n",
              "      <th>44</th>\n",
              "      <td>Redfern</td>\n",
              "      <td>63</td>\n",
              "      <td>Second Home Mortgage</td>\n",
              "      <td>25000</td>\n",
              "      <td>30/09/2019</td>\n",
              "    </tr>\n",
              "    <tr>\n",
              "      <th>45</th>\n",
              "      <td>Redfern</td>\n",
              "      <td>63</td>\n",
              "      <td>Second Home Mortgage</td>\n",
              "      <td>20000</td>\n",
              "      <td>31/10/2019</td>\n",
              "    </tr>\n",
              "    <tr>\n",
              "      <th>46</th>\n",
              "      <td>Redfern</td>\n",
              "      <td>63</td>\n",
              "      <td>Second Home Mortgage</td>\n",
              "      <td>15000</td>\n",
              "      <td>30/11/2019</td>\n",
              "    </tr>\n",
              "    <tr>\n",
              "      <th>47</th>\n",
              "      <td>Redfern</td>\n",
              "      <td>63</td>\n",
              "      <td>Second Home Mortgage</td>\n",
              "      <td>10000</td>\n",
              "      <td>31/12/2019</td>\n",
              "    </tr>\n",
              "  </tbody>\n",
              "</table>\n",
              "</div>"
            ],
            "text/plain": [
              "   nombre_cliente  edad         producto_desc  saldo_$       fecha\n",
              "0        Richards    68      15 Year Mortgage  3500000  31/01/2018\n",
              "1        Richards    68      15 Year Mortgage  3495000  28/02/2018\n",
              "2        Richards    68      15 Year Mortgage  3490000  31/03/2018\n",
              "3        Richards    68      15 Year Mortgage  3485000  30/04/2018\n",
              "4        Richards    68      15 Year Mortgage  3480000  31/05/2018\n",
              "5        Richards    68      15 Year Mortgage  3475000  30/06/2018\n",
              "6        Richards    68      15 Year Mortgage  3465000  31/07/2018\n",
              "7        Richards    68      15 Year Mortgage  3455000  31/08/2018\n",
              "8        Richards    68      15 Year Mortgage  3445000  30/09/2018\n",
              "9        Richards    68      15 Year Mortgage  3435000  31/10/2018\n",
              "10       Richards    68      15 Year Mortgage  3425000  30/11/2018\n",
              "11       Richards    68      15 Year Mortgage  3415000  31/12/2018\n",
              "12       Richards    68      15 Year Mortgage  3415000  31/01/2019\n",
              "13       Richards    68      15 Year Mortgage  3414500  28/02/2019\n",
              "14       Richards    68      15 Year Mortgage  3410000  31/03/2019\n",
              "15       Richards    68      15 Year Mortgage  3400000  30/04/2019\n",
              "16       Richards    68      15 Year Mortgage  3390000  31/05/2019\n",
              "17       Richards    68      15 Year Mortgage  3385000  30/06/2019\n",
              "18       Richards    68      15 Year Mortgage  3200000  31/07/2019\n",
              "19       Richards    68      15 Year Mortgage  3150000  31/08/2019\n",
              "20       Richards    68      15 Year Mortgage  3100000  30/09/2019\n",
              "21       Richards    68      15 Year Mortgage  3000000  31/10/2019\n",
              "22       Richards    68      15 Year Mortgage  3000000  30/11/2019\n",
              "23       Richards    68      15 Year Mortgage  2900000  31/12/2019\n",
              "24        Redfern    63  Second Home Mortgage   125000  31/01/2018\n",
              "25        Redfern    63  Second Home Mortgage   120000  28/02/2018\n",
              "26        Redfern    63  Second Home Mortgage   115000  31/03/2018\n",
              "27        Redfern    63  Second Home Mortgage   110000  30/04/2018\n",
              "28        Redfern    63  Second Home Mortgage   105000  31/05/2018\n",
              "29        Redfern    63  Second Home Mortgage   100000  30/06/2018\n",
              "30        Redfern    63  Second Home Mortgage    95000  31/07/2018\n",
              "31        Redfern    63  Second Home Mortgage    90000  31/08/2018\n",
              "32        Redfern    63  Second Home Mortgage    85000  30/09/2018\n",
              "33        Redfern    63  Second Home Mortgage    80000  31/10/2018\n",
              "34        Redfern    63  Second Home Mortgage    75000  30/11/2018\n",
              "35        Redfern    63  Second Home Mortgage    70000  31/12/2018\n",
              "36        Redfern    63  Second Home Mortgage    65000  31/01/2019\n",
              "37        Redfern    63  Second Home Mortgage    60000  28/02/2019\n",
              "38        Redfern    63  Second Home Mortgage    55000  31/03/2019\n",
              "39        Redfern    63  Second Home Mortgage    50000  30/04/2019\n",
              "40        Redfern    63  Second Home Mortgage    45000  31/05/2019\n",
              "41        Redfern    63  Second Home Mortgage    40000  30/06/2019\n",
              "42        Redfern    63  Second Home Mortgage    35000  31/07/2019\n",
              "43        Redfern    63  Second Home Mortgage    30000  31/08/2019\n",
              "44        Redfern    63  Second Home Mortgage    25000  30/09/2019\n",
              "45        Redfern    63  Second Home Mortgage    20000  31/10/2019\n",
              "46        Redfern    63  Second Home Mortgage    15000  30/11/2019\n",
              "47        Redfern    63  Second Home Mortgage    10000  31/12/2019"
            ]
          },
          "metadata": {
            "tags": []
          },
          "execution_count": 8
        }
      ]
    },
    {
      "cell_type": "markdown",
      "metadata": {
        "id": "UPPTBiVvqLOf"
      },
      "source": [
        "Con esta informacion, la forma dwe realizar las predicciones es ajustando un modelo de regresion lineal. Por la forma en la que se tienen los datos, se busca entonces predecir la fecha de los siguientes pagos hasta que el saldo sea 0. \r\n",
        "\r\n",
        "El modelo de regresion consiste en predecir la variable de tiempo con la variable de saldo como explicativa, para un tipo de hipoteca de un tipo de usuario dado.\r\n",
        "\r\n",
        "Este modelo ajusta una recta para los saldos y fechas realizados hasta la edad determinada, y proyecta sobre esta los saldos hasta que se llegue a 0, y regresa la fecha de cuando el saldo sea 0."
      ]
    },
    {
      "cell_type": "code",
      "metadata": {
        "id": "_yPTk-eGC3-e"
      },
      "source": [
        "#Teniendo la informacion que se requiere, se toma una funcion donde se toma el cliente\r\n",
        "def predict_time_last_payment(name,age,mortgage,data = data):\r\n",
        "  #Excepciones\r\n",
        "  if name not in set(data['nombre_cliente']): raise Exception ('La persona %s no es cliente con hipoteca'%name)\r\n",
        "  if mortgage not in set(data['producto_desc']): raise Exception ('Actualmente no se tienen cuentas con la hipoteca %s'%mortgage)\r\n",
        "\r\n",
        "  data_ = data[data['producto_desc']==mortgage]\r\n",
        "  data_ = data[data['nombre_cliente']==name]\r\n",
        "  data_ = data_[data['edad'] <= age]\r\n",
        "  data_['fecha']=pd.to_datetime(data_['fecha'], format='%d/%m/%Y')\r\n",
        "  \r\n",
        "  x = np.array(data_['saldo_$']).reshape((-1, 1))\r\n",
        "  y = list(data_['fecha'].apply(lambda x: x.toordinal()))\r\n",
        "  regr = linear_model.LinearRegression()\r\n",
        "  regr.fit(x, y)\r\n",
        "\r\n",
        "  x_new = np.arange(x[-1],0,-100).reshape((-1, 1))\r\n",
        "  y_pred = regr.predict(x_new)\r\n",
        "\r\n",
        "  for i in range(len(y)):\r\n",
        "    y[i] = datetime.date.fromordinal(y[i])\r\n",
        "\r\n",
        "  plt.plot(y,x,'.')\r\n",
        "  plt.plot(y_pred,x_new,'.')\r\n",
        "  plt.xlabel('Tiempo')\r\n",
        "  plt.ylabel('Saldo')\r\n",
        "  plt.xticks(rotation=45)\r\n",
        "  plt.title('Proyeccion de deuda del cliente %s'%name)\r\n",
        "  plt.show()\r\n",
        "  last_paymet = datetime.date.fromordinal(int(y_pred[-1]))\r\n",
        "  print(\"El ultimo pago de %s sera el:%s\"%(name,last_paymet))"
      ],
      "execution_count": null,
      "outputs": []
    },
    {
      "cell_type": "code",
      "metadata": {
        "colab": {
          "base_uri": "https://localhost:8080/",
          "height": 361
        },
        "id": "K_DfuATUOW1s",
        "outputId": "9ec4d783-b61b-4691-e45e-60b011e175f9"
      },
      "source": [
        "predict_time_last_payment('Richards',68,'15 Year Mortgage')"
      ],
      "execution_count": null,
      "outputs": [
        {
          "output_type": "stream",
          "text": [
            "/usr/local/lib/python3.6/dist-packages/ipykernel_launcher.py:9: UserWarning: Boolean Series key will be reindexed to match DataFrame index.\n",
            "  if __name__ == '__main__':\n"
          ],
          "name": "stderr"
        },
        {
          "output_type": "display_data",
          "data": {
            "image/png": "[encoded data removed]",
            "text/plain": [
              "<Figure size 432x288 with 1 Axes>"
            ]
          },
          "metadata": {
            "tags": [],
            "needs_background": "light"
          }
        },
        {
          "output_type": "stream",
          "text": [
            "El ultimo pago de Richards sera el:2028-05-21\n"
          ],
          "name": "stdout"
        }
      ]
    },
    {
      "cell_type": "code",
      "metadata": {
        "colab": {
          "base_uri": "https://localhost:8080/",
          "height": 373
        },
        "id": "WyNFiy8CiUVM",
        "outputId": "84384fa9-17eb-4866-eff7-0a7096cd7352"
      },
      "source": [
        "predict_time_last_payment('Redfern',63,'Second Home Mortgage')"
      ],
      "execution_count": null,
      "outputs": [
        {
          "output_type": "stream",
          "text": [
            "/usr/local/lib/python3.6/dist-packages/ipykernel_launcher.py:9: UserWarning: Boolean Series key will be reindexed to match DataFrame index.\n",
            "  if __name__ == '__main__':\n"
          ],
          "name": "stderr"
        },
        {
          "output_type": "display_data",
          "data": {
            "image/png": "[encoded data removed]",
            "text/plain": [
              "<Figure size 432x288 with 1 Axes>"
            ]
          },
          "metadata": {
            "tags": [],
            "needs_background": "light"
          }
        },
        {
          "output_type": "stream",
          "text": [
            "El ultimo pago de Redfern sera el:2020-02-28\n"
          ],
          "name": "stdout"
        }
      ]
    },
    {
      "cell_type": "markdown",
      "metadata": {
        "id": "HIpi75KSrDtK"
      },
      "source": [
        "Con las cuentas disponbles actualmente, se puede ver que la frecuencia de los pagos y su magnitud impacta de manera significante la proyeccion de los proccimos, donde si los pagos no son constentes en cantidad o frecuencia, se puede esperar un largo periodo de pago, mientras que si los pagos son frecuentes en monto o frecuencia, el modelo predice que su terminacion de pagos sera mucho mas proxima.\r\n",
        "\r\n",
        "La forma de obtener inrgesos con estos pagos es incluir penalicaciones (que se volveran ingresos para la reserva de riesgos y de ser cubiertos, ingresos para el banco) donde se aplicaran estas penalizaciones en caso de realizare los pagos con retraso, la 'bonificacion' para las personas que paguen a tiempo sera no realizarles la penalizacion. "
      ]
    },
    {
      "cell_type": "markdown",
      "metadata": {
        "id": "yBgR5Z9AIv6D"
      },
      "source": [
        "##4\r\n",
        "Se desea saber cuales son los productos que menor actividad(interes por parte de los clientes) ha tenido. De tal forma que se pueda pensar en eliminar dicho producto del portafolio de serivicios/productos del banco."
      ]
    },
    {
      "cell_type": "markdown",
      "metadata": {
        "id": "5QEUV78xspag"
      },
      "source": [
        "Para esta consulta, primero crearemos la tabla que contenga las frecuencias de los tipos de productos. "
      ]
    },
    {
      "cell_type": "code",
      "metadata": {
        "id": "R3A7hWQ7ICjg",
        "colab": {
          "base_uri": "https://localhost:8080/",
          "height": 328
        },
        "outputId": "6d00bf59-27cc-44b6-92de-0ba6e52e8743"
      },
      "source": [
        "#Guardamos en una tabla el dataframe correspondiente a las frecuencias de los tipos de productos. \r\n",
        "q1=\"\"\"SELECT \r\n",
        "producto_desc AS product, COUNT(Saldo_$) AS frequency\r\n",
        "FROM\r\n",
        "facts, product\r\n",
        "WHERE\r\n",
        "facts.llave_producto = product.llave_producto\r\n",
        "GROUP BY 1\r\n",
        "ORDER BY 2 ASC;\"\"\"\r\n",
        "data = ps.sqldf(q1,locals())\r\n",
        "data"
      ],
      "execution_count": null,
      "outputs": [
        {
          "output_type": "execute_result",
          "data": {
            "text/html": [
              "<div>\n",
              "<style scoped>\n",
              "    .dataframe tbody tr th:only-of-type {\n",
              "        vertical-align: middle;\n",
              "    }\n",
              "\n",
              "    .dataframe tbody tr th {\n",
              "        vertical-align: top;\n",
              "    }\n",
              "\n",
              "    .dataframe thead th {\n",
              "        text-align: right;\n",
              "    }\n",
              "</style>\n",
              "<table border=\"1\" class=\"dataframe\">\n",
              "  <thead>\n",
              "    <tr style=\"text-align: right;\">\n",
              "      <th></th>\n",
              "      <th>product</th>\n",
              "      <th>frequency</th>\n",
              "    </tr>\n",
              "  </thead>\n",
              "  <tbody>\n",
              "    <tr>\n",
              "      <th>0</th>\n",
              "      <td>90 Day Secured Loan</td>\n",
              "      <td>3</td>\n",
              "    </tr>\n",
              "    <tr>\n",
              "      <th>1</th>\n",
              "      <td>15 Year Mortgage</td>\n",
              "      <td>24</td>\n",
              "    </tr>\n",
              "    <tr>\n",
              "      <th>2</th>\n",
              "      <td>Checking for Children</td>\n",
              "      <td>24</td>\n",
              "    </tr>\n",
              "    <tr>\n",
              "      <th>3</th>\n",
              "      <td>Checking w. Interest</td>\n",
              "      <td>24</td>\n",
              "    </tr>\n",
              "    <tr>\n",
              "      <th>4</th>\n",
              "      <td>On Line Checking</td>\n",
              "      <td>24</td>\n",
              "    </tr>\n",
              "    <tr>\n",
              "      <th>5</th>\n",
              "      <td>Regular Checking</td>\n",
              "      <td>24</td>\n",
              "    </tr>\n",
              "    <tr>\n",
              "      <th>6</th>\n",
              "      <td>Regular Saving</td>\n",
              "      <td>24</td>\n",
              "    </tr>\n",
              "    <tr>\n",
              "      <th>7</th>\n",
              "      <td>Second Home Mortgage</td>\n",
              "      <td>24</td>\n",
              "    </tr>\n",
              "    <tr>\n",
              "      <th>8</th>\n",
              "      <td>Line of Credit</td>\n",
              "      <td>48</td>\n",
              "    </tr>\n",
              "  </tbody>\n",
              "</table>\n",
              "</div>"
            ],
            "text/plain": [
              "                 product  frequency\n",
              "0    90 Day Secured Loan          3\n",
              "1       15 Year Mortgage         24\n",
              "2  Checking for Children         24\n",
              "3   Checking w. Interest         24\n",
              "4       On Line Checking         24\n",
              "5       Regular Checking         24\n",
              "6         Regular Saving         24\n",
              "7   Second Home Mortgage         24\n",
              "8         Line of Credit         48"
            ]
          },
          "metadata": {
            "tags": []
          },
          "execution_count": 30
        }
      ]
    },
    {
      "cell_type": "markdown",
      "metadata": {
        "id": "om9Jxw1ksyv8"
      },
      "source": [
        ""
      ]
    },
    {
      "cell_type": "markdown",
      "metadata": {
        "id": "DC6MGb-Ks0T9"
      },
      "source": [
        "Teniendo las frecuencias simplemente se ordenan los datos por frecuencias y se propone el $1/4$ mas bajo de estos productos para ser eliminado o remplazado. "
      ]
    },
    {
      "cell_type": "code",
      "metadata": {
        "id": "hmk_XDEAVLqC"
      },
      "source": [
        "def products_to_pop(data=data):\r\n",
        "  op_data = data.sort_values(by='frequency',ascending=True)\r\n",
        "  ordered_products = list(op_data['product'])\r\n",
        "  size_top_pop = len(ordered_products) // 4\r\n",
        "  underwhelming_products = ordered_products[:size_top_pop+1]\r\n",
        "  not_underwhelming_products = ordered_products[size_top_pop+1:]\r\n",
        "  print('The products that are more ignored by clients are:',underwhelming_products)\r\n",
        "  print('The products that should be kept are:',not_underwhelming_products)"
      ],
      "execution_count": null,
      "outputs": []
    },
    {
      "cell_type": "code",
      "metadata": {
        "colab": {
          "base_uri": "https://localhost:8080/"
        },
        "id": "QhbhzEiQWbyw",
        "outputId": "4d162c28-62c9-4336-8f34-addceb8ca43d"
      },
      "source": [
        "products_to_pop()"
      ],
      "execution_count": null,
      "outputs": [
        {
          "output_type": "stream",
          "text": [
            "The products that are more ignored by clients are: ['90 Day Secured Loan', '15 Year Mortgage', 'Checking for Children']\n",
            "The products that should be kept are: ['Checking w. Interest', 'On Line Checking', 'Regular Checking', 'Regular Saving', 'Second Home Mortgage', 'Line of Credit']\n"
          ],
          "name": "stdout"
        }
      ]
    },
    {
      "cell_type": "markdown",
      "metadata": {
        "id": "tlxHnqmOtKt7"
      },
      "source": [
        "En este caso debido a que casi todos los productos tienen las mismas frecuencias, gran parte del $1/4$ mas bajo es arbitrario pues se toma valores que comparten frecuencias con el resto. Para esto, el unico producto que se consideraria remplazar es el prestamo a 90 dias. Debido a la baja cantidad de prestamos realizados, si se desea mantener el producto, se pueden proponer promociones que incrementen el incentivo a los clientes por consumirlo, sin embargo una opcion que puede presentar mas ganancias para los bancos es realizar un producto similar al que tenga mas frecuencia, en este caso la aprtura de lineas de credito. \r\n",
        "\r\n",
        "Una forma de realizar este remplaso es hacer una linea de credito similar pero con distintas promociones encfocadas a otro tipo de clientes, de forma que se tengan los mismos rendimientos que la linea de credito que se tiene actualmente."
      ]
    },
    {
      "cell_type": "markdown",
      "metadata": {
        "id": "oqzVf23ZFb-e"
      },
      "source": [
        "## 5. Se desea saber cual es la sucursal que menos actividad ha tenido (pocas aperturas de cuentas , pocos cllientes , pocos pagos , ahorros)"
      ]
    },
    {
      "cell_type": "markdown",
      "metadata": {
        "id": "dvxnSGrAICHn"
      },
      "source": [
        "carguemos los datos necesarios para las consultas , dado que estamos hablando de sucursales y hechos"
      ]
    },
    {
      "cell_type": "code",
      "metadata": {
        "colab": {
          "base_uri": "https://localhost:8080/"
        },
        "id": "jP4aE8eWIAO6",
        "outputId": "e38a74d5-a639-4fba-ca2f-54181095f6d7"
      },
      "source": [
        "!pip install pandasql"
      ],
      "execution_count": null,
      "outputs": [
        {
          "output_type": "stream",
          "text": [
            "Requirement already satisfied: pandasql in /usr/local/lib/python3.6/dist-packages (0.7.3)\n",
            "Requirement already satisfied: sqlalchemy in /usr/local/lib/python3.6/dist-packages (from pandasql) (1.3.22)\n",
            "Requirement already satisfied: numpy in /usr/local/lib/python3.6/dist-packages (from pandasql) (1.19.5)\n",
            "Requirement already satisfied: pandas in /usr/local/lib/python3.6/dist-packages (from pandasql) (1.1.5)\n",
            "Requirement already satisfied: pytz>=2017.2 in /usr/local/lib/python3.6/dist-packages (from pandas->pandasql) (2018.9)\n",
            "Requirement already satisfied: python-dateutil>=2.7.3 in /usr/local/lib/python3.6/dist-packages (from pandas->pandasql) (2.8.1)\n",
            "Requirement already satisfied: six>=1.5 in /usr/local/lib/python3.6/dist-packages (from python-dateutil>=2.7.3->pandas->pandasql) (1.15.0)\n"
          ],
          "name": "stdout"
        }
      ]
    },
    {
      "cell_type": "code",
      "metadata": {
        "id": "V6QfjKXnGW2F"
      },
      "source": [
        "import numpy as np \r\n",
        "import pandas as pd \r\n",
        "import pandasql as ps"
      ],
      "execution_count": null,
      "outputs": []
    },
    {
      "cell_type": "code",
      "metadata": {
        "id": "71l9Wd2cI2GV"
      },
      "source": [
        "hechos = pd.read_csv('hechos_estrella.csv')\r\n",
        "sucursal=pd.read_csv('sucursal.csv')\r\n",
        "producto=pd.read_csv('producto.csv')"
      ],
      "execution_count": null,
      "outputs": []
    },
    {
      "cell_type": "markdown",
      "metadata": {
        "id": "BAwQbhQwjE_G"
      },
      "source": [
        "cambiamos el valor de 'saldo_$' con 'saldo' para su uso optimo"
      ]
    },
    {
      "cell_type": "code",
      "metadata": {
        "id": "FcoaQWtNb5j_"
      },
      "source": [
        "hechos2=hechos.rename(columns={'saldo_$':'saldo'})"
      ],
      "execution_count": null,
      "outputs": []
    },
    {
      "cell_type": "markdown",
      "metadata": {
        "id": "5IJlqMqejO2g"
      },
      "source": [
        "ya con el cambio"
      ]
    },
    {
      "cell_type": "code",
      "metadata": {
        "colab": {
          "base_uri": "https://localhost:8080/",
          "height": 204
        },
        "id": "SPHIEjQ3LKtH",
        "outputId": "f0ac049f-dcd8-4adc-cfb5-d8c4adb61413"
      },
      "source": [
        "hechos2.head()"
      ],
      "execution_count": null,
      "outputs": [
        {
          "output_type": "execute_result",
          "data": {
            "text/html": [
              "<div>\n",
              "<style scoped>\n",
              "    .dataframe tbody tr th:only-of-type {\n",
              "        vertical-align: middle;\n",
              "    }\n",
              "\n",
              "    .dataframe tbody tr th {\n",
              "        vertical-align: top;\n",
              "    }\n",
              "\n",
              "    .dataframe thead th {\n",
              "        text-align: right;\n",
              "    }\n",
              "</style>\n",
              "<table border=\"1\" class=\"dataframe\">\n",
              "  <thead>\n",
              "    <tr style=\"text-align: right;\">\n",
              "      <th></th>\n",
              "      <th>llave_org</th>\n",
              "      <th>llave_geografia</th>\n",
              "      <th>llave_cliente</th>\n",
              "      <th>llave_producto</th>\n",
              "      <th>llave_tiempo</th>\n",
              "      <th>saldo</th>\n",
              "    </tr>\n",
              "  </thead>\n",
              "  <tbody>\n",
              "    <tr>\n",
              "      <th>0</th>\n",
              "      <td>1001</td>\n",
              "      <td>200001</td>\n",
              "      <td>300001</td>\n",
              "      <td>40001</td>\n",
              "      <td>50026</td>\n",
              "      <td>14000</td>\n",
              "    </tr>\n",
              "    <tr>\n",
              "      <th>1</th>\n",
              "      <td>1001</td>\n",
              "      <td>200001</td>\n",
              "      <td>300001</td>\n",
              "      <td>40028</td>\n",
              "      <td>50026</td>\n",
              "      <td>19500</td>\n",
              "    </tr>\n",
              "    <tr>\n",
              "      <th>2</th>\n",
              "      <td>1003</td>\n",
              "      <td>200283</td>\n",
              "      <td>300538</td>\n",
              "      <td>40432</td>\n",
              "      <td>50026</td>\n",
              "      <td>7000</td>\n",
              "    </tr>\n",
              "    <tr>\n",
              "      <th>3</th>\n",
              "      <td>1002</td>\n",
              "      <td>200006</td>\n",
              "      <td>300002</td>\n",
              "      <td>40136</td>\n",
              "      <td>50026</td>\n",
              "      <td>8500</td>\n",
              "    </tr>\n",
              "    <tr>\n",
              "      <th>4</th>\n",
              "      <td>1003</td>\n",
              "      <td>200283</td>\n",
              "      <td>300538</td>\n",
              "      <td>40366</td>\n",
              "      <td>50026</td>\n",
              "      <td>120000</td>\n",
              "    </tr>\n",
              "  </tbody>\n",
              "</table>\n",
              "</div>"
            ],
            "text/plain": [
              "   llave_org  llave_geografia  ...  llave_tiempo   saldo\n",
              "0       1001           200001  ...         50026   14000\n",
              "1       1001           200001  ...         50026   19500\n",
              "2       1003           200283  ...         50026    7000\n",
              "3       1002           200006  ...         50026    8500\n",
              "4       1003           200283  ...         50026  120000\n",
              "\n",
              "[5 rows x 6 columns]"
            ]
          },
          "metadata": {
            "tags": []
          },
          "execution_count": 68
        }
      ]
    },
    {
      "cell_type": "code",
      "metadata": {
        "colab": {
          "base_uri": "https://localhost:8080/",
          "height": 204
        },
        "id": "0HPLPBkRMiqF",
        "outputId": "bfa2fe23-2c0e-44bd-b199-14d284e21de4"
      },
      "source": [
        "sucursal.head()"
      ],
      "execution_count": null,
      "outputs": [
        {
          "output_type": "execute_result",
          "data": {
            "text/html": [
              "<div>\n",
              "<style scoped>\n",
              "    .dataframe tbody tr th:only-of-type {\n",
              "        vertical-align: middle;\n",
              "    }\n",
              "\n",
              "    .dataframe tbody tr th {\n",
              "        vertical-align: top;\n",
              "    }\n",
              "\n",
              "    .dataframe thead th {\n",
              "        text-align: right;\n",
              "    }\n",
              "</style>\n",
              "<table border=\"1\" class=\"dataframe\">\n",
              "  <thead>\n",
              "    <tr style=\"text-align: right;\">\n",
              "      <th></th>\n",
              "      <th>llave_org</th>\n",
              "      <th>id_sucursal</th>\n",
              "      <th>nombre_suc</th>\n",
              "    </tr>\n",
              "  </thead>\n",
              "  <tbody>\n",
              "    <tr>\n",
              "      <th>0</th>\n",
              "      <td>1001</td>\n",
              "      <td>101</td>\n",
              "      <td>Suc_Birmingham</td>\n",
              "    </tr>\n",
              "    <tr>\n",
              "      <th>1</th>\n",
              "      <td>1002</td>\n",
              "      <td>102</td>\n",
              "      <td>Suc_Phoenix</td>\n",
              "    </tr>\n",
              "    <tr>\n",
              "      <th>2</th>\n",
              "      <td>1003</td>\n",
              "      <td>103</td>\n",
              "      <td>Suc_Des Moines</td>\n",
              "    </tr>\n",
              "    <tr>\n",
              "      <th>3</th>\n",
              "      <td>1004</td>\n",
              "      <td>104</td>\n",
              "      <td>Suc_North Platte</td>\n",
              "    </tr>\n",
              "    <tr>\n",
              "      <th>4</th>\n",
              "      <td>1005</td>\n",
              "      <td>105</td>\n",
              "      <td>Suc_Lexington</td>\n",
              "    </tr>\n",
              "  </tbody>\n",
              "</table>\n",
              "</div>"
            ],
            "text/plain": [
              "   llave_org  id_sucursal        nombre_suc\n",
              "0       1001          101    Suc_Birmingham\n",
              "1       1002          102       Suc_Phoenix\n",
              "2       1003          103    Suc_Des Moines\n",
              "3       1004          104  Suc_North Platte\n",
              "4       1005          105     Suc_Lexington"
            ]
          },
          "metadata": {
            "tags": []
          },
          "execution_count": 12
        }
      ]
    },
    {
      "cell_type": "code",
      "metadata": {
        "colab": {
          "base_uri": "https://localhost:8080/",
          "height": 204
        },
        "id": "-yWQzN-BdQHI",
        "outputId": "4c58e28e-cf94-45bd-8129-f3deece27e9d"
      },
      "source": [
        "producto.head()"
      ],
      "execution_count": null,
      "outputs": [
        {
          "output_type": "execute_result",
          "data": {
            "text/html": [
              "<div>\n",
              "<style scoped>\n",
              "    .dataframe tbody tr th:only-of-type {\n",
              "        vertical-align: middle;\n",
              "    }\n",
              "\n",
              "    .dataframe tbody tr th {\n",
              "        vertical-align: top;\n",
              "    }\n",
              "\n",
              "    .dataframe thead th {\n",
              "        text-align: right;\n",
              "    }\n",
              "</style>\n",
              "<table border=\"1\" class=\"dataframe\">\n",
              "  <thead>\n",
              "    <tr style=\"text-align: right;\">\n",
              "      <th></th>\n",
              "      <th>llave_producto</th>\n",
              "      <th>tipo_producto_id</th>\n",
              "      <th>tipo_producto_desc</th>\n",
              "      <th>producto_id</th>\n",
              "      <th>producto_desc</th>\n",
              "      <th>numero_cuenta</th>\n",
              "      <th>tasa_interes</th>\n",
              "      <th>saldo_minimo</th>\n",
              "    </tr>\n",
              "  </thead>\n",
              "  <tbody>\n",
              "    <tr>\n",
              "      <th>0</th>\n",
              "      <td>40001</td>\n",
              "      <td>4001</td>\n",
              "      <td>Checking</td>\n",
              "      <td>401</td>\n",
              "      <td>Regular Checking</td>\n",
              "      <td>57750</td>\n",
              "      <td>0.04</td>\n",
              "      <td>1000</td>\n",
              "    </tr>\n",
              "    <tr>\n",
              "      <th>1</th>\n",
              "      <td>40002</td>\n",
              "      <td>4001</td>\n",
              "      <td>Checking</td>\n",
              "      <td>401</td>\n",
              "      <td>Regular Checking</td>\n",
              "      <td>18858</td>\n",
              "      <td>0.04</td>\n",
              "      <td>1000</td>\n",
              "    </tr>\n",
              "    <tr>\n",
              "      <th>2</th>\n",
              "      <td>40003</td>\n",
              "      <td>4001</td>\n",
              "      <td>Checking</td>\n",
              "      <td>401</td>\n",
              "      <td>Regular Checking</td>\n",
              "      <td>88840</td>\n",
              "      <td>0.04</td>\n",
              "      <td>1000</td>\n",
              "    </tr>\n",
              "    <tr>\n",
              "      <th>3</th>\n",
              "      <td>40004</td>\n",
              "      <td>4001</td>\n",
              "      <td>Checking</td>\n",
              "      <td>401</td>\n",
              "      <td>Regular Checking</td>\n",
              "      <td>49239</td>\n",
              "      <td>0.04</td>\n",
              "      <td>1000</td>\n",
              "    </tr>\n",
              "    <tr>\n",
              "      <th>4</th>\n",
              "      <td>40005</td>\n",
              "      <td>4001</td>\n",
              "      <td>Checking</td>\n",
              "      <td>401</td>\n",
              "      <td>Regular Checking</td>\n",
              "      <td>23774</td>\n",
              "      <td>0.04</td>\n",
              "      <td>1000</td>\n",
              "    </tr>\n",
              "  </tbody>\n",
              "</table>\n",
              "</div>"
            ],
            "text/plain": [
              "   llave_producto  tipo_producto_id  ... tasa_interes  saldo_minimo\n",
              "0           40001              4001  ...         0.04          1000\n",
              "1           40002              4001  ...         0.04          1000\n",
              "2           40003              4001  ...         0.04          1000\n",
              "3           40004              4001  ...         0.04          1000\n",
              "4           40005              4001  ...         0.04          1000\n",
              "\n",
              "[5 rows x 8 columns]"
            ]
          },
          "metadata": {
            "tags": []
          },
          "execution_count": 70
        }
      ]
    },
    {
      "cell_type": "markdown",
      "metadata": {
        "id": "S2v4MbR_WJci"
      },
      "source": [
        "veamos las suma de los saldos . En la sucursal con id 1004 (Suc_North Platte) vemos que es la que tiene mas saldo es decir mas operacion activas en cambio la sucursal con 1001 (Suc_Birmingham) vemos que tiene la menor cantidad de cuentas activas . centremonos en ello y en la comparacion con laguna de sus sucursales vecinas"
      ]
    },
    {
      "cell_type": "code",
      "metadata": {
        "colab": {
          "base_uri": "https://localhost:8080/",
          "height": 204
        },
        "id": "0vsImc30OEHM",
        "outputId": "97b0f6fb-9e7b-401e-efa9-d12349b31f2f"
      },
      "source": [
        "q2=\"\"\" select llave_org ,sum(saldo) as saldo\r\n",
        "from hechos2\r\n",
        "join producto ON producto.llave_producto == hechos2.llave_producto\r\n",
        "group by llave_org\r\n",
        "\"\"\"\r\n",
        "sucursal_t=ps.sqldf(q2,locals())\r\n",
        "sucursal_t"
      ],
      "execution_count": null,
      "outputs": [
        {
          "output_type": "execute_result",
          "data": {
            "text/html": [
              "<div>\n",
              "<style scoped>\n",
              "    .dataframe tbody tr th:only-of-type {\n",
              "        vertical-align: middle;\n",
              "    }\n",
              "\n",
              "    .dataframe tbody tr th {\n",
              "        vertical-align: top;\n",
              "    }\n",
              "\n",
              "    .dataframe thead th {\n",
              "        text-align: right;\n",
              "    }\n",
              "</style>\n",
              "<table border=\"1\" class=\"dataframe\">\n",
              "  <thead>\n",
              "    <tr style=\"text-align: right;\">\n",
              "      <th></th>\n",
              "      <th>llave_org</th>\n",
              "      <th>saldo</th>\n",
              "    </tr>\n",
              "  </thead>\n",
              "  <tbody>\n",
              "    <tr>\n",
              "      <th>0</th>\n",
              "      <td>1001</td>\n",
              "      <td>884500</td>\n",
              "    </tr>\n",
              "    <tr>\n",
              "      <th>1</th>\n",
              "      <td>1002</td>\n",
              "      <td>989500</td>\n",
              "    </tr>\n",
              "    <tr>\n",
              "      <th>2</th>\n",
              "      <td>1003</td>\n",
              "      <td>1637000</td>\n",
              "    </tr>\n",
              "    <tr>\n",
              "      <th>3</th>\n",
              "      <td>1004</td>\n",
              "      <td>81949500</td>\n",
              "    </tr>\n",
              "    <tr>\n",
              "      <th>4</th>\n",
              "      <td>1005</td>\n",
              "      <td>1867705</td>\n",
              "    </tr>\n",
              "  </tbody>\n",
              "</table>\n",
              "</div>"
            ],
            "text/plain": [
              "   llave_org     saldo\n",
              "0       1001    884500\n",
              "1       1002    989500\n",
              "2       1003   1637000\n",
              "3       1004  81949500\n",
              "4       1005   1867705"
            ]
          },
          "metadata": {
            "tags": []
          },
          "execution_count": 74
        }
      ]
    },
    {
      "cell_type": "markdown",
      "metadata": {
        "id": "M8p8gWAyjVuL"
      },
      "source": [
        "estos son los datos de la sucursal con numeros mas bajos"
      ]
    },
    {
      "cell_type": "code",
      "metadata": {
        "colab": {
          "base_uri": "https://localhost:8080/",
          "height": 1000
        },
        "id": "MzKW1KMAO19d",
        "outputId": "1a31c692-8c3a-4368-d2c4-ec2d8cd2a2d0"
      },
      "source": [
        "t1=\"\"\" select llave_org ,saldo,tipo_producto_id\r\n",
        "from hechos2\r\n",
        "join producto ON producto.llave_producto == hechos2.llave_producto\r\n",
        "where llave_org ==1001\r\n",
        "\r\n",
        "\"\"\"\r\n",
        "sucursalpobre=ps.sqldf(t1,locals())\r\n",
        "sucursalpobre"
      ],
      "execution_count": null,
      "outputs": [
        {
          "output_type": "execute_result",
          "data": {
            "text/html": [
              "<div>\n",
              "<style scoped>\n",
              "    .dataframe tbody tr th:only-of-type {\n",
              "        vertical-align: middle;\n",
              "    }\n",
              "\n",
              "    .dataframe tbody tr th {\n",
              "        vertical-align: top;\n",
              "    }\n",
              "\n",
              "    .dataframe thead th {\n",
              "        text-align: right;\n",
              "    }\n",
              "</style>\n",
              "<table border=\"1\" class=\"dataframe\">\n",
              "  <thead>\n",
              "    <tr style=\"text-align: right;\">\n",
              "      <th></th>\n",
              "      <th>llave_org</th>\n",
              "      <th>saldo</th>\n",
              "      <th>tipo_producto_id</th>\n",
              "    </tr>\n",
              "  </thead>\n",
              "  <tbody>\n",
              "    <tr>\n",
              "      <th>0</th>\n",
              "      <td>1001</td>\n",
              "      <td>14000</td>\n",
              "      <td>4001</td>\n",
              "    </tr>\n",
              "    <tr>\n",
              "      <th>1</th>\n",
              "      <td>1001</td>\n",
              "      <td>19500</td>\n",
              "      <td>4001</td>\n",
              "    </tr>\n",
              "    <tr>\n",
              "      <th>2</th>\n",
              "      <td>1001</td>\n",
              "      <td>16000</td>\n",
              "      <td>4001</td>\n",
              "    </tr>\n",
              "    <tr>\n",
              "      <th>3</th>\n",
              "      <td>1001</td>\n",
              "      <td>28000</td>\n",
              "      <td>4001</td>\n",
              "    </tr>\n",
              "    <tr>\n",
              "      <th>4</th>\n",
              "      <td>1001</td>\n",
              "      <td>16000</td>\n",
              "      <td>4001</td>\n",
              "    </tr>\n",
              "    <tr>\n",
              "      <th>5</th>\n",
              "      <td>1001</td>\n",
              "      <td>25000</td>\n",
              "      <td>4001</td>\n",
              "    </tr>\n",
              "    <tr>\n",
              "      <th>6</th>\n",
              "      <td>1001</td>\n",
              "      <td>23400</td>\n",
              "      <td>4001</td>\n",
              "    </tr>\n",
              "    <tr>\n",
              "      <th>7</th>\n",
              "      <td>1001</td>\n",
              "      <td>17000</td>\n",
              "      <td>4001</td>\n",
              "    </tr>\n",
              "    <tr>\n",
              "      <th>8</th>\n",
              "      <td>1001</td>\n",
              "      <td>9000</td>\n",
              "      <td>4001</td>\n",
              "    </tr>\n",
              "    <tr>\n",
              "      <th>9</th>\n",
              "      <td>1001</td>\n",
              "      <td>23800</td>\n",
              "      <td>4001</td>\n",
              "    </tr>\n",
              "    <tr>\n",
              "      <th>10</th>\n",
              "      <td>1001</td>\n",
              "      <td>9000</td>\n",
              "      <td>4001</td>\n",
              "    </tr>\n",
              "    <tr>\n",
              "      <th>11</th>\n",
              "      <td>1001</td>\n",
              "      <td>29200</td>\n",
              "      <td>4001</td>\n",
              "    </tr>\n",
              "    <tr>\n",
              "      <th>12</th>\n",
              "      <td>1001</td>\n",
              "      <td>18000</td>\n",
              "      <td>4001</td>\n",
              "    </tr>\n",
              "    <tr>\n",
              "      <th>13</th>\n",
              "      <td>1001</td>\n",
              "      <td>11000</td>\n",
              "      <td>4001</td>\n",
              "    </tr>\n",
              "    <tr>\n",
              "      <th>14</th>\n",
              "      <td>1001</td>\n",
              "      <td>25100</td>\n",
              "      <td>4001</td>\n",
              "    </tr>\n",
              "    <tr>\n",
              "      <th>15</th>\n",
              "      <td>1001</td>\n",
              "      <td>15000</td>\n",
              "      <td>4001</td>\n",
              "    </tr>\n",
              "    <tr>\n",
              "      <th>16</th>\n",
              "      <td>1001</td>\n",
              "      <td>19200</td>\n",
              "      <td>4001</td>\n",
              "    </tr>\n",
              "    <tr>\n",
              "      <th>17</th>\n",
              "      <td>1001</td>\n",
              "      <td>11500</td>\n",
              "      <td>4001</td>\n",
              "    </tr>\n",
              "    <tr>\n",
              "      <th>18</th>\n",
              "      <td>1001</td>\n",
              "      <td>16200</td>\n",
              "      <td>4001</td>\n",
              "    </tr>\n",
              "    <tr>\n",
              "      <th>19</th>\n",
              "      <td>1001</td>\n",
              "      <td>22800</td>\n",
              "      <td>4001</td>\n",
              "    </tr>\n",
              "    <tr>\n",
              "      <th>20</th>\n",
              "      <td>1001</td>\n",
              "      <td>15000</td>\n",
              "      <td>4001</td>\n",
              "    </tr>\n",
              "    <tr>\n",
              "      <th>21</th>\n",
              "      <td>1001</td>\n",
              "      <td>20000</td>\n",
              "      <td>4001</td>\n",
              "    </tr>\n",
              "    <tr>\n",
              "      <th>22</th>\n",
              "      <td>1001</td>\n",
              "      <td>15000</td>\n",
              "      <td>4001</td>\n",
              "    </tr>\n",
              "    <tr>\n",
              "      <th>23</th>\n",
              "      <td>1001</td>\n",
              "      <td>25000</td>\n",
              "      <td>4001</td>\n",
              "    </tr>\n",
              "    <tr>\n",
              "      <th>24</th>\n",
              "      <td>1001</td>\n",
              "      <td>13500</td>\n",
              "      <td>4001</td>\n",
              "    </tr>\n",
              "    <tr>\n",
              "      <th>25</th>\n",
              "      <td>1001</td>\n",
              "      <td>17800</td>\n",
              "      <td>4001</td>\n",
              "    </tr>\n",
              "    <tr>\n",
              "      <th>26</th>\n",
              "      <td>1001</td>\n",
              "      <td>18000</td>\n",
              "      <td>4001</td>\n",
              "    </tr>\n",
              "    <tr>\n",
              "      <th>27</th>\n",
              "      <td>1001</td>\n",
              "      <td>28200</td>\n",
              "      <td>4001</td>\n",
              "    </tr>\n",
              "    <tr>\n",
              "      <th>28</th>\n",
              "      <td>1001</td>\n",
              "      <td>17000</td>\n",
              "      <td>4001</td>\n",
              "    </tr>\n",
              "    <tr>\n",
              "      <th>29</th>\n",
              "      <td>1001</td>\n",
              "      <td>27200</td>\n",
              "      <td>4001</td>\n",
              "    </tr>\n",
              "    <tr>\n",
              "      <th>30</th>\n",
              "      <td>1001</td>\n",
              "      <td>25600</td>\n",
              "      <td>4001</td>\n",
              "    </tr>\n",
              "    <tr>\n",
              "      <th>31</th>\n",
              "      <td>1001</td>\n",
              "      <td>14500</td>\n",
              "      <td>4001</td>\n",
              "    </tr>\n",
              "    <tr>\n",
              "      <th>32</th>\n",
              "      <td>1001</td>\n",
              "      <td>20000</td>\n",
              "      <td>4001</td>\n",
              "    </tr>\n",
              "    <tr>\n",
              "      <th>33</th>\n",
              "      <td>1001</td>\n",
              "      <td>8000</td>\n",
              "      <td>4001</td>\n",
              "    </tr>\n",
              "    <tr>\n",
              "      <th>34</th>\n",
              "      <td>1001</td>\n",
              "      <td>12500</td>\n",
              "      <td>4001</td>\n",
              "    </tr>\n",
              "    <tr>\n",
              "      <th>35</th>\n",
              "      <td>1001</td>\n",
              "      <td>25000</td>\n",
              "      <td>4001</td>\n",
              "    </tr>\n",
              "    <tr>\n",
              "      <th>36</th>\n",
              "      <td>1001</td>\n",
              "      <td>10000</td>\n",
              "      <td>4001</td>\n",
              "    </tr>\n",
              "    <tr>\n",
              "      <th>37</th>\n",
              "      <td>1001</td>\n",
              "      <td>25200</td>\n",
              "      <td>4001</td>\n",
              "    </tr>\n",
              "    <tr>\n",
              "      <th>38</th>\n",
              "      <td>1001</td>\n",
              "      <td>25100</td>\n",
              "      <td>4001</td>\n",
              "    </tr>\n",
              "    <tr>\n",
              "      <th>39</th>\n",
              "      <td>1001</td>\n",
              "      <td>13500</td>\n",
              "      <td>4001</td>\n",
              "    </tr>\n",
              "    <tr>\n",
              "      <th>40</th>\n",
              "      <td>1001</td>\n",
              "      <td>19000</td>\n",
              "      <td>4001</td>\n",
              "    </tr>\n",
              "    <tr>\n",
              "      <th>41</th>\n",
              "      <td>1001</td>\n",
              "      <td>13000</td>\n",
              "      <td>4001</td>\n",
              "    </tr>\n",
              "    <tr>\n",
              "      <th>42</th>\n",
              "      <td>1001</td>\n",
              "      <td>17000</td>\n",
              "      <td>4001</td>\n",
              "    </tr>\n",
              "    <tr>\n",
              "      <th>43</th>\n",
              "      <td>1001</td>\n",
              "      <td>25100</td>\n",
              "      <td>4001</td>\n",
              "    </tr>\n",
              "    <tr>\n",
              "      <th>44</th>\n",
              "      <td>1001</td>\n",
              "      <td>22300</td>\n",
              "      <td>4001</td>\n",
              "    </tr>\n",
              "    <tr>\n",
              "      <th>45</th>\n",
              "      <td>1001</td>\n",
              "      <td>1000</td>\n",
              "      <td>4001</td>\n",
              "    </tr>\n",
              "    <tr>\n",
              "      <th>46</th>\n",
              "      <td>1001</td>\n",
              "      <td>23900</td>\n",
              "      <td>4001</td>\n",
              "    </tr>\n",
              "    <tr>\n",
              "      <th>47</th>\n",
              "      <td>1001</td>\n",
              "      <td>18400</td>\n",
              "      <td>4001</td>\n",
              "    </tr>\n",
              "  </tbody>\n",
              "</table>\n",
              "</div>"
            ],
            "text/plain": [
              "    llave_org  saldo  tipo_producto_id\n",
              "0        1001  14000              4001\n",
              "1        1001  19500              4001\n",
              "2        1001  16000              4001\n",
              "3        1001  28000              4001\n",
              "4        1001  16000              4001\n",
              "5        1001  25000              4001\n",
              "6        1001  23400              4001\n",
              "7        1001  17000              4001\n",
              "8        1001   9000              4001\n",
              "9        1001  23800              4001\n",
              "10       1001   9000              4001\n",
              "11       1001  29200              4001\n",
              "12       1001  18000              4001\n",
              "13       1001  11000              4001\n",
              "14       1001  25100              4001\n",
              "15       1001  15000              4001\n",
              "16       1001  19200              4001\n",
              "17       1001  11500              4001\n",
              "18       1001  16200              4001\n",
              "19       1001  22800              4001\n",
              "20       1001  15000              4001\n",
              "21       1001  20000              4001\n",
              "22       1001  15000              4001\n",
              "23       1001  25000              4001\n",
              "24       1001  13500              4001\n",
              "25       1001  17800              4001\n",
              "26       1001  18000              4001\n",
              "27       1001  28200              4001\n",
              "28       1001  17000              4001\n",
              "29       1001  27200              4001\n",
              "30       1001  25600              4001\n",
              "31       1001  14500              4001\n",
              "32       1001  20000              4001\n",
              "33       1001   8000              4001\n",
              "34       1001  12500              4001\n",
              "35       1001  25000              4001\n",
              "36       1001  10000              4001\n",
              "37       1001  25200              4001\n",
              "38       1001  25100              4001\n",
              "39       1001  13500              4001\n",
              "40       1001  19000              4001\n",
              "41       1001  13000              4001\n",
              "42       1001  17000              4001\n",
              "43       1001  25100              4001\n",
              "44       1001  22300              4001\n",
              "45       1001   1000              4001\n",
              "46       1001  23900              4001\n",
              "47       1001  18400              4001"
            ]
          },
          "metadata": {
            "tags": []
          },
          "execution_count": 84
        }
      ]
    },
    {
      "cell_type": "markdown",
      "metadata": {
        "id": "LLzIiGm9jawG"
      },
      "source": [
        "sucursal con numeros altos"
      ]
    },
    {
      "cell_type": "code",
      "metadata": {
        "colab": {
          "base_uri": "https://localhost:8080/",
          "height": 889
        },
        "id": "dr9r45DLgsYK",
        "outputId": "9c63b315-9da4-4a77-8302-cbadf1ae1bd9"
      },
      "source": [
        "t6=\"\"\" select llave_org,saldo,tipo_producto_id\r\n",
        "from hechos2\r\n",
        "join producto ON producto.llave_producto == hechos2.llave_producto\r\n",
        "where llave_org ==1003\r\n",
        "\r\n",
        "\"\"\"\r\n",
        "sucursalneutra=ps.sqldf(t6,locals())\r\n",
        "sucursalneutra"
      ],
      "execution_count": null,
      "outputs": [
        {
          "output_type": "execute_result",
          "data": {
            "text/html": [
              "<div>\n",
              "<style scoped>\n",
              "    .dataframe tbody tr th:only-of-type {\n",
              "        vertical-align: middle;\n",
              "    }\n",
              "\n",
              "    .dataframe tbody tr th {\n",
              "        vertical-align: top;\n",
              "    }\n",
              "\n",
              "    .dataframe thead th {\n",
              "        text-align: right;\n",
              "    }\n",
              "</style>\n",
              "<table border=\"1\" class=\"dataframe\">\n",
              "  <thead>\n",
              "    <tr style=\"text-align: right;\">\n",
              "      <th></th>\n",
              "      <th>llave_org</th>\n",
              "      <th>saldo</th>\n",
              "      <th>tipo_producto_id</th>\n",
              "    </tr>\n",
              "  </thead>\n",
              "  <tbody>\n",
              "    <tr>\n",
              "      <th>0</th>\n",
              "      <td>1003</td>\n",
              "      <td>7000</td>\n",
              "      <td>4004</td>\n",
              "    </tr>\n",
              "    <tr>\n",
              "      <th>1</th>\n",
              "      <td>1003</td>\n",
              "      <td>120000</td>\n",
              "      <td>4003</td>\n",
              "    </tr>\n",
              "    <tr>\n",
              "      <th>2</th>\n",
              "      <td>1003</td>\n",
              "      <td>60000</td>\n",
              "      <td>4003</td>\n",
              "    </tr>\n",
              "    <tr>\n",
              "      <th>3</th>\n",
              "      <td>1003</td>\n",
              "      <td>110000</td>\n",
              "      <td>4003</td>\n",
              "    </tr>\n",
              "    <tr>\n",
              "      <th>4</th>\n",
              "      <td>1003</td>\n",
              "      <td>50000</td>\n",
              "      <td>4003</td>\n",
              "    </tr>\n",
              "    <tr>\n",
              "      <th>5</th>\n",
              "      <td>1003</td>\n",
              "      <td>100000</td>\n",
              "      <td>4003</td>\n",
              "    </tr>\n",
              "    <tr>\n",
              "      <th>6</th>\n",
              "      <td>1003</td>\n",
              "      <td>40000</td>\n",
              "      <td>4003</td>\n",
              "    </tr>\n",
              "    <tr>\n",
              "      <th>7</th>\n",
              "      <td>1003</td>\n",
              "      <td>85000</td>\n",
              "      <td>4003</td>\n",
              "    </tr>\n",
              "    <tr>\n",
              "      <th>8</th>\n",
              "      <td>1003</td>\n",
              "      <td>25000</td>\n",
              "      <td>4003</td>\n",
              "    </tr>\n",
              "    <tr>\n",
              "      <th>9</th>\n",
              "      <td>1003</td>\n",
              "      <td>75000</td>\n",
              "      <td>4003</td>\n",
              "    </tr>\n",
              "    <tr>\n",
              "      <th>10</th>\n",
              "      <td>1003</td>\n",
              "      <td>15000</td>\n",
              "      <td>4003</td>\n",
              "    </tr>\n",
              "    <tr>\n",
              "      <th>11</th>\n",
              "      <td>1003</td>\n",
              "      <td>10000</td>\n",
              "      <td>4004</td>\n",
              "    </tr>\n",
              "    <tr>\n",
              "      <th>12</th>\n",
              "      <td>1003</td>\n",
              "      <td>125000</td>\n",
              "      <td>4003</td>\n",
              "    </tr>\n",
              "    <tr>\n",
              "      <th>13</th>\n",
              "      <td>1003</td>\n",
              "      <td>65000</td>\n",
              "      <td>4003</td>\n",
              "    </tr>\n",
              "    <tr>\n",
              "      <th>14</th>\n",
              "      <td>1003</td>\n",
              "      <td>115000</td>\n",
              "      <td>4003</td>\n",
              "    </tr>\n",
              "    <tr>\n",
              "      <th>15</th>\n",
              "      <td>1003</td>\n",
              "      <td>0</td>\n",
              "      <td>4004</td>\n",
              "    </tr>\n",
              "    <tr>\n",
              "      <th>16</th>\n",
              "      <td>1003</td>\n",
              "      <td>55000</td>\n",
              "      <td>4003</td>\n",
              "    </tr>\n",
              "    <tr>\n",
              "      <th>17</th>\n",
              "      <td>1003</td>\n",
              "      <td>105000</td>\n",
              "      <td>4003</td>\n",
              "    </tr>\n",
              "    <tr>\n",
              "      <th>18</th>\n",
              "      <td>1003</td>\n",
              "      <td>45000</td>\n",
              "      <td>4003</td>\n",
              "    </tr>\n",
              "    <tr>\n",
              "      <th>19</th>\n",
              "      <td>1003</td>\n",
              "      <td>95000</td>\n",
              "      <td>4003</td>\n",
              "    </tr>\n",
              "    <tr>\n",
              "      <th>20</th>\n",
              "      <td>1003</td>\n",
              "      <td>35000</td>\n",
              "      <td>4003</td>\n",
              "    </tr>\n",
              "    <tr>\n",
              "      <th>21</th>\n",
              "      <td>1003</td>\n",
              "      <td>90000</td>\n",
              "      <td>4003</td>\n",
              "    </tr>\n",
              "    <tr>\n",
              "      <th>22</th>\n",
              "      <td>1003</td>\n",
              "      <td>30000</td>\n",
              "      <td>4003</td>\n",
              "    </tr>\n",
              "    <tr>\n",
              "      <th>23</th>\n",
              "      <td>1003</td>\n",
              "      <td>80000</td>\n",
              "      <td>4003</td>\n",
              "    </tr>\n",
              "    <tr>\n",
              "      <th>24</th>\n",
              "      <td>1003</td>\n",
              "      <td>20000</td>\n",
              "      <td>4003</td>\n",
              "    </tr>\n",
              "    <tr>\n",
              "      <th>25</th>\n",
              "      <td>1003</td>\n",
              "      <td>70000</td>\n",
              "      <td>4003</td>\n",
              "    </tr>\n",
              "    <tr>\n",
              "      <th>26</th>\n",
              "      <td>1003</td>\n",
              "      <td>10000</td>\n",
              "      <td>4003</td>\n",
              "    </tr>\n",
              "  </tbody>\n",
              "</table>\n",
              "</div>"
            ],
            "text/plain": [
              "    llave_org   saldo  tipo_producto_id\n",
              "0        1003    7000              4004\n",
              "1        1003  120000              4003\n",
              "2        1003   60000              4003\n",
              "3        1003  110000              4003\n",
              "4        1003   50000              4003\n",
              "5        1003  100000              4003\n",
              "6        1003   40000              4003\n",
              "7        1003   85000              4003\n",
              "8        1003   25000              4003\n",
              "9        1003   75000              4003\n",
              "10       1003   15000              4003\n",
              "11       1003   10000              4004\n",
              "12       1003  125000              4003\n",
              "13       1003   65000              4003\n",
              "14       1003  115000              4003\n",
              "15       1003       0              4004\n",
              "16       1003   55000              4003\n",
              "17       1003  105000              4003\n",
              "18       1003   45000              4003\n",
              "19       1003   95000              4003\n",
              "20       1003   35000              4003\n",
              "21       1003   90000              4003\n",
              "22       1003   30000              4003\n",
              "23       1003   80000              4003\n",
              "24       1003   20000              4003\n",
              "25       1003   70000              4003\n",
              "26       1003   10000              4003"
            ]
          },
          "metadata": {
            "tags": []
          },
          "execution_count": 93
        }
      ]
    },
    {
      "cell_type": "markdown",
      "metadata": {
        "id": "4uB3CPGNjecp"
      },
      "source": [
        "numeros de sucursal 'promedio'"
      ]
    },
    {
      "cell_type": "code",
      "metadata": {
        "colab": {
          "base_uri": "https://localhost:8080/",
          "height": 1000
        },
        "id": "DJF5gbCbRdQN",
        "outputId": "e97f3e32-892b-4278-f39e-dc292d9629bc"
      },
      "source": [
        "t2=\"\"\" select llave_org,saldo,tipo_producto_id\r\n",
        "from hechos2\r\n",
        "join producto ON producto.llave_producto == hechos2.llave_producto\r\n",
        "where llave_org ==1004\r\n",
        "\r\n",
        "\"\"\"\r\n",
        "sucursalbuena=ps.sqldf(t2,locals())\r\n",
        "sucursalbuena"
      ],
      "execution_count": null,
      "outputs": [
        {
          "output_type": "execute_result",
          "data": {
            "text/html": [
              "<div>\n",
              "<style scoped>\n",
              "    .dataframe tbody tr th:only-of-type {\n",
              "        vertical-align: middle;\n",
              "    }\n",
              "\n",
              "    .dataframe tbody tr th {\n",
              "        vertical-align: top;\n",
              "    }\n",
              "\n",
              "    .dataframe thead th {\n",
              "        text-align: right;\n",
              "    }\n",
              "</style>\n",
              "<table border=\"1\" class=\"dataframe\">\n",
              "  <thead>\n",
              "    <tr style=\"text-align: right;\">\n",
              "      <th></th>\n",
              "      <th>llave_org</th>\n",
              "      <th>saldo</th>\n",
              "      <th>tipo_producto_id</th>\n",
              "    </tr>\n",
              "  </thead>\n",
              "  <tbody>\n",
              "    <tr>\n",
              "      <th>0</th>\n",
              "      <td>1004</td>\n",
              "      <td>120000</td>\n",
              "      <td>4004</td>\n",
              "    </tr>\n",
              "    <tr>\n",
              "      <th>1</th>\n",
              "      <td>1004</td>\n",
              "      <td>3495000</td>\n",
              "      <td>4003</td>\n",
              "    </tr>\n",
              "    <tr>\n",
              "      <th>2</th>\n",
              "      <td>1004</td>\n",
              "      <td>3414500</td>\n",
              "      <td>4003</td>\n",
              "    </tr>\n",
              "    <tr>\n",
              "      <th>3</th>\n",
              "      <td>1004</td>\n",
              "      <td>60000</td>\n",
              "      <td>4004</td>\n",
              "    </tr>\n",
              "    <tr>\n",
              "      <th>4</th>\n",
              "      <td>1004</td>\n",
              "      <td>110000</td>\n",
              "      <td>4004</td>\n",
              "    </tr>\n",
              "    <tr>\n",
              "      <th>5</th>\n",
              "      <td>1004</td>\n",
              "      <td>3485000</td>\n",
              "      <td>4003</td>\n",
              "    </tr>\n",
              "    <tr>\n",
              "      <th>6</th>\n",
              "      <td>1004</td>\n",
              "      <td>3400000</td>\n",
              "      <td>4003</td>\n",
              "    </tr>\n",
              "    <tr>\n",
              "      <th>7</th>\n",
              "      <td>1004</td>\n",
              "      <td>50000</td>\n",
              "      <td>4004</td>\n",
              "    </tr>\n",
              "    <tr>\n",
              "      <th>8</th>\n",
              "      <td>1004</td>\n",
              "      <td>100000</td>\n",
              "      <td>4004</td>\n",
              "    </tr>\n",
              "    <tr>\n",
              "      <th>9</th>\n",
              "      <td>1004</td>\n",
              "      <td>3475000</td>\n",
              "      <td>4003</td>\n",
              "    </tr>\n",
              "    <tr>\n",
              "      <th>10</th>\n",
              "      <td>1004</td>\n",
              "      <td>3385000</td>\n",
              "      <td>4003</td>\n",
              "    </tr>\n",
              "    <tr>\n",
              "      <th>11</th>\n",
              "      <td>1004</td>\n",
              "      <td>40000</td>\n",
              "      <td>4004</td>\n",
              "    </tr>\n",
              "    <tr>\n",
              "      <th>12</th>\n",
              "      <td>1004</td>\n",
              "      <td>85000</td>\n",
              "      <td>4004</td>\n",
              "    </tr>\n",
              "    <tr>\n",
              "      <th>13</th>\n",
              "      <td>1004</td>\n",
              "      <td>3445000</td>\n",
              "      <td>4003</td>\n",
              "    </tr>\n",
              "    <tr>\n",
              "      <th>14</th>\n",
              "      <td>1004</td>\n",
              "      <td>25000</td>\n",
              "      <td>4004</td>\n",
              "    </tr>\n",
              "    <tr>\n",
              "      <th>15</th>\n",
              "      <td>1004</td>\n",
              "      <td>3100000</td>\n",
              "      <td>4003</td>\n",
              "    </tr>\n",
              "    <tr>\n",
              "      <th>16</th>\n",
              "      <td>1004</td>\n",
              "      <td>75000</td>\n",
              "      <td>4004</td>\n",
              "    </tr>\n",
              "    <tr>\n",
              "      <th>17</th>\n",
              "      <td>1004</td>\n",
              "      <td>3425000</td>\n",
              "      <td>4003</td>\n",
              "    </tr>\n",
              "    <tr>\n",
              "      <th>18</th>\n",
              "      <td>1004</td>\n",
              "      <td>3000000</td>\n",
              "      <td>4003</td>\n",
              "    </tr>\n",
              "    <tr>\n",
              "      <th>19</th>\n",
              "      <td>1004</td>\n",
              "      <td>15000</td>\n",
              "      <td>4004</td>\n",
              "    </tr>\n",
              "    <tr>\n",
              "      <th>20</th>\n",
              "      <td>1004</td>\n",
              "      <td>3500000</td>\n",
              "      <td>4003</td>\n",
              "    </tr>\n",
              "    <tr>\n",
              "      <th>21</th>\n",
              "      <td>1004</td>\n",
              "      <td>125000</td>\n",
              "      <td>4004</td>\n",
              "    </tr>\n",
              "    <tr>\n",
              "      <th>22</th>\n",
              "      <td>1004</td>\n",
              "      <td>3415000</td>\n",
              "      <td>4003</td>\n",
              "    </tr>\n",
              "    <tr>\n",
              "      <th>23</th>\n",
              "      <td>1004</td>\n",
              "      <td>65000</td>\n",
              "      <td>4004</td>\n",
              "    </tr>\n",
              "    <tr>\n",
              "      <th>24</th>\n",
              "      <td>1004</td>\n",
              "      <td>115000</td>\n",
              "      <td>4004</td>\n",
              "    </tr>\n",
              "    <tr>\n",
              "      <th>25</th>\n",
              "      <td>1004</td>\n",
              "      <td>3490000</td>\n",
              "      <td>4003</td>\n",
              "    </tr>\n",
              "    <tr>\n",
              "      <th>26</th>\n",
              "      <td>1004</td>\n",
              "      <td>55000</td>\n",
              "      <td>4004</td>\n",
              "    </tr>\n",
              "    <tr>\n",
              "      <th>27</th>\n",
              "      <td>1004</td>\n",
              "      <td>3410000</td>\n",
              "      <td>4003</td>\n",
              "    </tr>\n",
              "    <tr>\n",
              "      <th>28</th>\n",
              "      <td>1004</td>\n",
              "      <td>105000</td>\n",
              "      <td>4004</td>\n",
              "    </tr>\n",
              "    <tr>\n",
              "      <th>29</th>\n",
              "      <td>1004</td>\n",
              "      <td>3480000</td>\n",
              "      <td>4003</td>\n",
              "    </tr>\n",
              "    <tr>\n",
              "      <th>30</th>\n",
              "      <td>1004</td>\n",
              "      <td>3390000</td>\n",
              "      <td>4003</td>\n",
              "    </tr>\n",
              "    <tr>\n",
              "      <th>31</th>\n",
              "      <td>1004</td>\n",
              "      <td>45000</td>\n",
              "      <td>4004</td>\n",
              "    </tr>\n",
              "    <tr>\n",
              "      <th>32</th>\n",
              "      <td>1004</td>\n",
              "      <td>3465000</td>\n",
              "      <td>4003</td>\n",
              "    </tr>\n",
              "    <tr>\n",
              "      <th>33</th>\n",
              "      <td>1004</td>\n",
              "      <td>95000</td>\n",
              "      <td>4004</td>\n",
              "    </tr>\n",
              "    <tr>\n",
              "      <th>34</th>\n",
              "      <td>1004</td>\n",
              "      <td>35000</td>\n",
              "      <td>4004</td>\n",
              "    </tr>\n",
              "    <tr>\n",
              "      <th>35</th>\n",
              "      <td>1004</td>\n",
              "      <td>3200000</td>\n",
              "      <td>4003</td>\n",
              "    </tr>\n",
              "    <tr>\n",
              "      <th>36</th>\n",
              "      <td>1004</td>\n",
              "      <td>3455000</td>\n",
              "      <td>4003</td>\n",
              "    </tr>\n",
              "    <tr>\n",
              "      <th>37</th>\n",
              "      <td>1004</td>\n",
              "      <td>90000</td>\n",
              "      <td>4004</td>\n",
              "    </tr>\n",
              "    <tr>\n",
              "      <th>38</th>\n",
              "      <td>1004</td>\n",
              "      <td>30000</td>\n",
              "      <td>4004</td>\n",
              "    </tr>\n",
              "    <tr>\n",
              "      <th>39</th>\n",
              "      <td>1004</td>\n",
              "      <td>3150000</td>\n",
              "      <td>4003</td>\n",
              "    </tr>\n",
              "    <tr>\n",
              "      <th>40</th>\n",
              "      <td>1004</td>\n",
              "      <td>3435000</td>\n",
              "      <td>4003</td>\n",
              "    </tr>\n",
              "    <tr>\n",
              "      <th>41</th>\n",
              "      <td>1004</td>\n",
              "      <td>80000</td>\n",
              "      <td>4004</td>\n",
              "    </tr>\n",
              "    <tr>\n",
              "      <th>42</th>\n",
              "      <td>1004</td>\n",
              "      <td>20000</td>\n",
              "      <td>4004</td>\n",
              "    </tr>\n",
              "    <tr>\n",
              "      <th>43</th>\n",
              "      <td>1004</td>\n",
              "      <td>3000000</td>\n",
              "      <td>4003</td>\n",
              "    </tr>\n",
              "    <tr>\n",
              "      <th>44</th>\n",
              "      <td>1004</td>\n",
              "      <td>70000</td>\n",
              "      <td>4004</td>\n",
              "    </tr>\n",
              "    <tr>\n",
              "      <th>45</th>\n",
              "      <td>1004</td>\n",
              "      <td>3415000</td>\n",
              "      <td>4003</td>\n",
              "    </tr>\n",
              "    <tr>\n",
              "      <th>46</th>\n",
              "      <td>1004</td>\n",
              "      <td>2900000</td>\n",
              "      <td>4003</td>\n",
              "    </tr>\n",
              "    <tr>\n",
              "      <th>47</th>\n",
              "      <td>1004</td>\n",
              "      <td>10000</td>\n",
              "      <td>4004</td>\n",
              "    </tr>\n",
              "  </tbody>\n",
              "</table>\n",
              "</div>"
            ],
            "text/plain": [
              "    llave_org    saldo  tipo_producto_id\n",
              "0        1004   120000              4004\n",
              "1        1004  3495000              4003\n",
              "2        1004  3414500              4003\n",
              "3        1004    60000              4004\n",
              "4        1004   110000              4004\n",
              "5        1004  3485000              4003\n",
              "6        1004  3400000              4003\n",
              "7        1004    50000              4004\n",
              "8        1004   100000              4004\n",
              "9        1004  3475000              4003\n",
              "10       1004  3385000              4003\n",
              "11       1004    40000              4004\n",
              "12       1004    85000              4004\n",
              "13       1004  3445000              4003\n",
              "14       1004    25000              4004\n",
              "15       1004  3100000              4003\n",
              "16       1004    75000              4004\n",
              "17       1004  3425000              4003\n",
              "18       1004  3000000              4003\n",
              "19       1004    15000              4004\n",
              "20       1004  3500000              4003\n",
              "21       1004   125000              4004\n",
              "22       1004  3415000              4003\n",
              "23       1004    65000              4004\n",
              "24       1004   115000              4004\n",
              "25       1004  3490000              4003\n",
              "26       1004    55000              4004\n",
              "27       1004  3410000              4003\n",
              "28       1004   105000              4004\n",
              "29       1004  3480000              4003\n",
              "30       1004  3390000              4003\n",
              "31       1004    45000              4004\n",
              "32       1004  3465000              4003\n",
              "33       1004    95000              4004\n",
              "34       1004    35000              4004\n",
              "35       1004  3200000              4003\n",
              "36       1004  3455000              4003\n",
              "37       1004    90000              4004\n",
              "38       1004    30000              4004\n",
              "39       1004  3150000              4003\n",
              "40       1004  3435000              4003\n",
              "41       1004    80000              4004\n",
              "42       1004    20000              4004\n",
              "43       1004  3000000              4003\n",
              "44       1004    70000              4004\n",
              "45       1004  3415000              4003\n",
              "46       1004  2900000              4003\n",
              "47       1004    10000              4004"
            ]
          },
          "metadata": {
            "tags": []
          },
          "execution_count": 85
        }
      ]
    },
    {
      "cell_type": "code",
      "metadata": {
        "id": "jFToqy6oSjOm"
      },
      "source": [
        "from matplotlib import pylab as plt \r\n",
        "plt.rcParams['figure.figsize']=(10,9)\r\n",
        "plt.style.use('ggplot')"
      ],
      "execution_count": null,
      "outputs": []
    },
    {
      "cell_type": "code",
      "metadata": {
        "colab": {
          "base_uri": "https://localhost:8080/",
          "height": 567
        },
        "id": "WS7afu19TZ3f",
        "outputId": "7755f436-1385-459f-cb45-7c7e5cec682c"
      },
      "source": [
        "#esta grafica mostrara los datos de la sucursal con mejores numeros vs la que menos tiene\r\n",
        "f2= sucursalpobre.saldo.values\r\n",
        "f1= sucursalbuena.saldo.values\r\n",
        "f3=sucursalneutra.saldo.values\r\n",
        "plt.scatter(f1,f2,s=10)\r\n"
      ],
      "execution_count": null,
      "outputs": [
        {
          "output_type": "execute_result",
          "data": {
            "text/plain": [
              "<matplotlib.collections.PathCollection at 0x7f90957b14a8>"
            ]
          },
          "metadata": {
            "tags": []
          },
          "execution_count": 112
        },
        {
          "output_type": "display_data",
          "data": {
            "image/png": "[encoded data removed]",
            "text/plain": [
              "<Figure size 720x648 with 1 Axes>"
            ]
          },
          "metadata": {
            "tags": []
          }
        }
      ]
    },
    {
      "cell_type": "markdown",
      "metadata": {
        "id": "uObrkvHUjuCc"
      },
      "source": [
        "como se puede ver en la sucursal con mjeores numeros los puntos estan mas juntos (mas proximos entre si  ) en comparacion con la que menos tiene .\r\n",
        "Para observar esto realizaremos el algorimto de k-medias para verlo mejor"
      ]
    },
    {
      "cell_type": "code",
      "metadata": {
        "colab": {
          "base_uri": "https://localhost:8080/"
        },
        "id": "fsytmdn6fm1A",
        "outputId": "e62bcc3e-8d3d-40f3-d287-5ed70fe9a1e5"
      },
      "source": [
        "from sklearn.cluster import KMeans\r\n",
        "X = np.array(list(zip(f1,f2)))\r\n",
        "kmeans = KMeans(n_clusters=2)\r\n",
        "kmeans = kmeans.fit(X)\r\n",
        "y=kmeans.predict(X)\r\n",
        "C_ = kmeans.cluster_centers_\r\n",
        "C_"
      ],
      "execution_count": null,
      "outputs": [
        {
          "output_type": "execute_result",
          "data": {
            "text/plain": [
              "array([[3347062.5       ,   18195.83333333],\n",
              "       [  67500.        ,   18658.33333333]])"
            ]
          },
          "metadata": {
            "tags": []
          },
          "execution_count": 91
        }
      ]
    },
    {
      "cell_type": "code",
      "metadata": {
        "colab": {
          "base_uri": "https://localhost:8080/",
          "height": 567
        },
        "id": "mfRJBKuxfqIT",
        "outputId": "6d5e1abe-a646-4812-dd45-12fc12376995"
      },
      "source": [
        "fig , ax = plt.subplots()\r\n",
        "ax.scatter(X[:,0],X[:,1],c=y)\r\n",
        "ax.scatter(C_[:,0],C_[:,1],marker='*',s=200,c='k')\r\n"
      ],
      "execution_count": null,
      "outputs": [
        {
          "output_type": "execute_result",
          "data": {
            "text/plain": [
              "<matplotlib.collections.PathCollection at 0x7f9095758940>"
            ]
          },
          "metadata": {
            "tags": []
          },
          "execution_count": 92
        },
        {
          "output_type": "display_data",
          "data": {
            "image/png": "[encoded data removed]",
            "text/plain": [
              "<Figure size 720x648 with 1 Axes>"
            ]
          },
          "metadata": {
            "tags": []
          }
        }
      ]
    },
    {
      "cell_type": "markdown",
      "metadata": {
        "id": "hmMktEfvkImx"
      },
      "source": [
        "podemos ver que los puntos de lado izquierdo estan proximos al centroide y en el lado derecho se  notan mas dispersos . Realizaremos algunas compraciones similares en las que intervenga la sucursal neutra"
      ]
    },
    {
      "cell_type": "code",
      "metadata": {
        "colab": {
          "base_uri": "https://localhost:8080/"
        },
        "id": "5zun0GHHhxV4",
        "outputId": "f2e951ff-646a-419b-dcab-d4b1d7480e82"
      },
      "source": [
        "Y = np.array(list(zip(f2,f3)))\r\n",
        "kmeans = KMeans(n_clusters=2)\r\n",
        "kmeans = kmeans.fit(Y)\r\n",
        "y=kmeans.predict(Y)\r\n",
        "C_ = kmeans.cluster_centers_\r\n",
        "C_"
      ],
      "execution_count": null,
      "outputs": [
        {
          "output_type": "execute_result",
          "data": {
            "text/plain": [
              "array([[20346.15384615, 95000.        ],\n",
              "       [16321.42857143, 28714.28571429]])"
            ]
          },
          "metadata": {
            "tags": []
          },
          "execution_count": 109
        }
      ]
    },
    {
      "cell_type": "code",
      "metadata": {
        "colab": {
          "base_uri": "https://localhost:8080/",
          "height": 555
        },
        "id": "pFEMx8bmh5sK",
        "outputId": "39158578-a453-4484-c831-94abff26c8b9"
      },
      "source": [
        "fig , ax = plt.subplots()\r\n",
        "ax.scatter(Y[:,0],Y[:,1],c=y)\r\n",
        "ax.scatter(C_[:,0],C_[:,1],marker='*',s=200,c='k')\r\n"
      ],
      "execution_count": null,
      "outputs": [
        {
          "output_type": "execute_result",
          "data": {
            "text/plain": [
              "<matplotlib.collections.PathCollection at 0x7f909513b2e8>"
            ]
          },
          "metadata": {
            "tags": []
          },
          "execution_count": 110
        },
        {
          "output_type": "display_data",
          "data": {
            "image/png": "[encoded data removed]",
            "text/plain": [
              "<Figure size 720x648 with 1 Axes>"
            ]
          },
          "metadata": {
            "tags": []
          }
        }
      ]
    },
    {
      "cell_type": "code",
      "metadata": {
        "colab": {
          "base_uri": "https://localhost:8080/"
        },
        "id": "YVafWOgJiEq4",
        "outputId": "198f06ed-2b35-4526-b945-d43064fe3bba"
      },
      "source": [
        "Z = np.array(list(zip(f1,f3)))\r\n",
        "kmeans = KMeans(n_clusters=2)\r\n",
        "kmeans = kmeans.fit(Z)\r\n",
        "y=kmeans.predict(Z)\r\n",
        "C_ = kmeans.cluster_centers_\r\n",
        "C_"
      ],
      "execution_count": null,
      "outputs": [
        {
          "output_type": "execute_result",
          "data": {
            "text/plain": [
              "array([[  74285.71428571,   62642.85714286],\n",
              "       [3386884.61538462,   58461.53846154]])"
            ]
          },
          "metadata": {
            "tags": []
          },
          "execution_count": 107
        }
      ]
    },
    {
      "cell_type": "code",
      "metadata": {
        "colab": {
          "base_uri": "https://localhost:8080/",
          "height": 567
        },
        "id": "seLfyvJ7iC2v",
        "outputId": "70d5401c-2918-419d-fa53-d73d022b0fe2"
      },
      "source": [
        "fig , ax = plt.subplots()\r\n",
        "ax.scatter(Z[:,0],Z[:,1],c=y)\r\n",
        "ax.scatter(C_[:,0],C_[:,1],marker='*',s=200,c='k')\r\n"
      ],
      "execution_count": null,
      "outputs": [
        {
          "output_type": "execute_result",
          "data": {
            "text/plain": [
              "<matplotlib.collections.PathCollection at 0x7f90951c4940>"
            ]
          },
          "metadata": {
            "tags": []
          },
          "execution_count": 108
        },
        {
          "output_type": "display_data",
          "data": {
            "image/png": "[encoded data removed]",
            "text/plain": [
              "<Figure size 720x648 with 1 Axes>"
            ]
          },
          "metadata": {
            "tags": []
          }
        }
      ]
    },
    {
      "cell_type": "markdown",
      "metadata": {
        "id": "-xAOyJaJkkFO"
      },
      "source": [
        "Podemos ver que el resuklta es similar al primer caso , la sucursal que menos actividades tiene  presenta una dispercion en sus puntos , entonces podemos decir que la sucursal Suc_Birmingham es la que menos actividad tiene en comparacion a las demas"
      ]
    }
  ]
}